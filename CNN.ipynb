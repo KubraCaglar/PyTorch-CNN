{
  "cells": [
    {
      "cell_type": "markdown",
      "metadata": {
        "id": "YmlJ7FFJGA3k"
      },
      "source": [
        "**<h1><center>CS 464</center></h1>**\n",
        "**<h1><center>Introduction to Machine Learning</center></h1>**\n",
        "**<h1><center>Spring 2022</center></h1>**\n",
        "**<h1><center>Homework 3</center></h1>**\n",
        "<h4><center>Due: DEC 23, 2022 23:59 (GMT+3)</center></h4>"
      ]
    },
    {
      "cell_type": "markdown",
      "metadata": {
        "id": "LxSgl3smH_qk"
      },
      "source": [
        "In this third homework assignment, you are asked to develop a system that can be used to supply additional information to weather forecasts. For this task, you are provided a dataset that consists of weather images that belong to four different weather conditions: [cloudy, rain, shiny, sunrise]. Your model will classify images considering these class labels. \n",
        "\n",
        "For this assignment, **using PyTorch is mandatory.**\n",
        "\n",
        "**Tip:** You may experience latencies in file I/O if you are using Google Colab. In this regard, we recommend you upload your data to Google Drive as a zip file and unzip the folder contents in your drive. If you would like to upload the data files separately, it may take significant time.\n",
        "\n",
        "You will submit a single ipynb file as the homework submission. If you want to provide further explanation about your work, you can add Markdown cells to do so. [Here](https://www.markdownguide.org/), you can find a guide for Markdown syntax. Upload your homework with the following filename convention: \\<BilkentID\\>\\_\\<Name\\>\\_\\<Surname\\>.ipynb\n",
        "\n",
        "\n",
        "**Dataset**<br>\n",
        "You can find the dataset [here](https://www.kaggle.com/datasets/pratik2901/multiclass-weather-dataset). \n"
      ]
    },
    {
      "cell_type": "markdown",
      "metadata": {
        "id": "kUQigqxM4JlE"
      },
      "source": [
        "# **Q1** [12 points]\n",
        "This part consists of 4 questions which you are expected to answer. Please fill in the following cell in Markdown format. Each question is worth 2 points."
      ]
    },
    {
      "cell_type": "markdown",
      "metadata": {
        "id": "3ZcbkhwkbQ4m"
      },
      "source": [
        "**a)** Do we need to output the actual probability values when performing classification with the softmax layer? If not, how do these numbers represent the likelihood of classes? Also, does the output values should be in a specific range for us to make a classification? <br>\n",
        "\n",
        "**Answer:** We do not need the actual probability values while performing classification with softmax, they represent how confident we should be during classification. The class having the highest probability is chosen as the output of the classification. The outputs should be in the range [0,1].\n",
        "\n",
        "**b)** From the perspective of model complexity, how you can identify when a model underfits or overfits? Which plots are informative for detecting this behavior? <br>\n",
        "\n",
        "**Answer:** If training accuracy converges to a near 1 but validation accuracy is significantly low, then the model overfits. Also, if the loss of the training data converges to a really low value while loss of the validation is significantly higher, then the model overfits. \n",
        "\n",
        "If both the training and validation accuracies are low or both of their losses are high, then the model underfits. Hence we can interpret these situations using loss and accuracy plots of training and validation data.\n",
        "\n",
        "**c)** In neural networks, how does the ReLU function help us to generalize to complex feature spaces? Why we are not using linear layers only? <br>\n",
        "\n",
        "**Answer:** Since ReLU deactivates neurons if their linear transformation is less than zero, in other words, it does not activate all the neurons at the same time, it is more computationally efficient compared to other functions. \n",
        "\n",
        "**d)** Assume that you are going to pass the feature matrix with dimensions 64x64x5 (Height x Width x Channel size) through a convolutional layer. If our convolutional layer has a kernel size of 3x3 and the number of filters is 6, how many learnable parameters are present? <br>\n",
        "\n",
        "**Answer:** For the learnable parameters, we use the formula \n",
        "num_learnable_parameters = (kernel_width * kernel_height * input_ch_size+1)*num_filters\n",
        "\n",
        "Hence, (3 * 3 * 5 + 1) * 6 = 276"
      ]
    },
    {
      "cell_type": "markdown",
      "metadata": {
        "id": "Qx_XrpE44TlW"
      },
      "source": [
        "# **Q2** [88 points]"
      ]
    },
    {
      "cell_type": "markdown",
      "metadata": {
        "id": "whvv0wjpDWC_"
      },
      "source": [
        "## Necessary Imports\n",
        "In the cell below, we import some utilities that you can make use of in this assignment. Note that you need to use PyTorch in this assignment. To report certain metrics (like precision, recall, accuracy) you may use utilities from *scikit-learn* library. You can edit these imports considering your implementation as long as you use PyTorch."
      ]
    },
    {
      "cell_type": "markdown",
      "metadata": {
        "id": "ByxehL1b4b2X"
      },
      "source": [
        "## Setup"
      ]
    },
    {
      "cell_type": "code",
      "execution_count": null,
      "metadata": {
        "id": "Jk_nY5kj70sX"
      },
      "outputs": [],
      "source": [
        "import os \n",
        "import time\n",
        "import random\n",
        "\n",
        "import numpy as np\n",
        "from PIL import Image\n",
        "import matplotlib.pyplot as plt\n",
        "\n",
        "from tqdm import tqdm\n",
        "import seaborn as sns\n",
        "\n",
        "import torch\n",
        "import torch.nn as nn\n",
        "import torch.nn.functional as F\n",
        "import torchvision.models as models\n",
        "from torch.utils.data import Dataset, DataLoader\n",
        "import torchvision.transforms as transforms\n",
        "\n",
        "from sklearn.model_selection import train_test_split\n",
        "from sklearn.metrics import confusion_matrix, classification_report, f1_score, precision_score, recall_score, accuracy_score"
      ]
    },
    {
      "cell_type": "markdown",
      "metadata": {
        "id": "yAve2XUl9spy"
      },
      "source": [
        "You can test whether hardware acceleration with GPU is enabled in the cell below. In addition, if you have GPU access, you can check the amount of available GPU memory."
      ]
    },
    {
      "cell_type": "code",
      "execution_count": null,
      "metadata": {
        "id": "0XJ4Hihx5q-2",
        "colab": {
          "base_uri": "https://localhost:8080/"
        },
        "outputId": "a5d1b4ce-7f89-4659-a394-b7ac79cd9d16"
      },
      "outputs": [
        {
          "output_type": "stream",
          "name": "stdout",
          "text": [
            "Using device: cuda\n",
            "GPU Name: Tesla T4\n",
            "Memory Stats:\n",
            "  - Allocated: 0.0 GB\n",
            "  - Cached:    0.0 GB\n",
            "  - Total:     14.8 GB\n"
          ]
        }
      ],
      "source": [
        "# setting device as GPU if available, else CPU\n",
        "device = torch.device('cuda' if torch.cuda.is_available() else 'cpu')\n",
        "print('Using device:', device)\n",
        "\n",
        "# CUDA device information\n",
        "if device.type == 'cuda':\n",
        "    print('GPU Name:', torch.cuda.get_device_name(0))\n",
        "    print('Memory Stats:')\n",
        "    print('  - Allocated:', round(torch.cuda.memory_allocated(0)/1024**3,1), 'GB')\n",
        "    print('  - Cached:   ', round(torch.cuda.memory_reserved(0)/1024**3,1), 'GB')\n",
        "    print('  - Total:    ', round(torch.cuda.get_device_properties(0).total_memory/1024**3,1), 'GB')"
      ]
    },
    {
      "cell_type": "markdown",
      "metadata": {
        "id": "-wVIFjmb-CJI"
      },
      "source": [
        "**DO NOT CHANGE**<br>\n",
        "To evaluate your implementation fairly, we set seed values for random sampling methods in PyTorch, Numpy, and Python random library. These seeds are set to evaluate your models successfully, so do not change these values."
      ]
    },
    {
      "cell_type": "code",
      "execution_count": null,
      "metadata": {
        "id": "4NiPHoaY5q8G"
      },
      "outputs": [],
      "source": [
        "# for reproducable results\n",
        "torch.manual_seed(464)\n",
        "torch.cuda.manual_seed(464)\n",
        "np.random.seed(464)\n",
        "random.seed(464)\n",
        "if device.type == 'cuda':\n",
        "    torch.backends.cudnn.deterministic=True"
      ]
    },
    {
      "cell_type": "markdown",
      "metadata": {
        "id": "Bbgnyp5J4fMb"
      },
      "source": [
        "## Load Data [6 points]\n",
        "In this assignment, you will use a custom dataset, which you need a wrapper class to access its data. For this purpose, implement a custom dataset class to organize data with the specifications you need. This class will load batches of data using a PyTorch DataLoader later. The class signature of CustomDataset class is provided to you in the cell below, where you can implement your custom dataset.\n",
        "\n",
        "**IMPORTANT:** As you may have difficulties while fitting all images to your RAM, you need to read the images while getting that item (each item is an image here). We encourage you to read the data files in the \"__getitem__\" function to avoid encountering any issues related to fitting the data to memory. This way, you do not need to hold the dataset in a single variable, which would be memory intensive."
      ]
    },
    {
      "cell_type": "code",
      "execution_count": null,
      "metadata": {
        "id": "iEgUvtFR8uY_"
      },
      "outputs": [],
      "source": [
        "class CustomDataset(Dataset):\n",
        "    def __init__(self, data, labels, **kwargs):\n",
        "      self.data = data\n",
        "      self.labels = labels\n",
        "\n",
        "    '''This function should return sample count in the dataset'''\n",
        "    def __len__(self):\n",
        "        return len(self.labels)\n",
        "\n",
        "    '''This function should return a single sample and its ground truth value from the dataset corresponding to index parameter '''\n",
        "    def __getitem__(self, index):\n",
        "        image = self.data[index,:,:,:]\n",
        "        ground_truth = self.labels[index]\n",
        "        return image, ground_truth"
      ]
    },
    {
      "cell_type": "markdown",
      "metadata": {
        "id": "H5aZOFJwEc_-"
      },
      "source": [
        "You can implement an additional function to read and construct custom dataset objects for training, validation, and test sets. While constructing the dataset, consider the following issues:\n",
        "- Dataset contains images that end with prefixes *.jpg* and *.jpeg*.\n",
        "- If you use PIL to read images, you should convert them to \"RGB\" format to operate on three color channels.\n",
        "- Resize the dataset images to 224x224. You are going to design models that take images with tensor shape 224x224x3.\n",
        "- If you wish, you can change the ordering of the color channels with np.moveaxis function\n",
        "\n",
        "Lastly, the train-validation-test split for the dataset provided to you is 70-10-20 in terms of percentages. While constructing the dataset, remember that shuffling is a necessary step (to get randomly distributed classes across batches).\n",
        "\n",
        "You can design your dataset getter method compatible with the line provided below, where train_dataset, val_dataset, and test_dataset are all instances of CustomDataset."
      ]
    },
    {
      "cell_type": "code",
      "source": [
        "from google.colab import drive\n",
        "drive.mount('/content/drive')"
      ],
      "metadata": {
        "colab": {
          "base_uri": "https://localhost:8080/"
        },
        "id": "BGsToSLpifOX",
        "outputId": "fdde405e-c140-4b9f-f2b0-86ce0621c5ce"
      },
      "execution_count": null,
      "outputs": [
        {
          "output_type": "stream",
          "name": "stdout",
          "text": [
            "Drive already mounted at /content/drive; to attempt to forcibly remount, call drive.mount(\"/content/drive\", force_remount=True).\n"
          ]
        }
      ]
    },
    {
      "cell_type": "code",
      "source": [
        "!unzip /content/drive/MyDrive/CS464/HW3/weather_images.zip"
      ],
      "metadata": {
        "colab": {
          "base_uri": "https://localhost:8080/"
        },
        "id": "KnLvSI3RigZO",
        "outputId": "c232ba2c-87ba-4414-9a1d-de066dca614c"
      },
      "execution_count": null,
      "outputs": [
        {
          "output_type": "stream",
          "name": "stdout",
          "text": [
            "Archive:  /content/drive/MyDrive/CS464/HW3/weather_images.zip\n",
            "replace Multi-class Weather Dataset/Cloudy/cloudy1.jpg? [y]es, [n]o, [A]ll, [N]one, [r]ename: N\n"
          ]
        }
      ]
    },
    {
      "cell_type": "code",
      "source": [
        "pathList = [r'/content/Multi-class Weather Dataset/Cloudy',\n",
        "            r'/content/Multi-class Weather Dataset/Rain',\n",
        "            r'/content/Multi-class Weather Dataset/Shine',\n",
        "            r'/content/Multi-class Weather Dataset/Sunrise']"
      ],
      "metadata": {
        "id": "X0el7IxJYu_a"
      },
      "execution_count": null,
      "outputs": []
    },
    {
      "cell_type": "code",
      "source": [
        "count = 0\n",
        "imageList = []\n",
        "labels = []\n",
        "print(type(imageList))\n",
        "for i in range(len(pathList)):\n",
        "  for img in os.listdir(pathList[i]):\n",
        "    imgPath = os.path.join(pathList[i],img)\n",
        "    # Convert the image to PyTorch tensor\n",
        "    transform_with_resize = transforms.Compose([\n",
        "    transforms.Resize((224, 224)),\n",
        "    transforms.ToTensor()])\n",
        "    image = Image.open(imgPath).convert(mode = \"RGB\")\n",
        "    image = transform_with_resize(image)\n",
        "    imageList.append(np.array(image))\n",
        "    #cloudy:0, rain:1, shine:2, sunrise:3\n",
        "    labels.append(i)\n",
        "imageList = np.array(imageList).astype('float32')\n",
        "labels = torch.Tensor(labels).int()"
      ],
      "metadata": {
        "colab": {
          "base_uri": "https://localhost:8080/"
        },
        "id": "Rx5nQqQchgyI",
        "outputId": "dea33e8e-4909-403b-c4f5-c179d5c409d3"
      },
      "execution_count": null,
      "outputs": [
        {
          "output_type": "stream",
          "name": "stdout",
          "text": [
            "<class 'list'>\n"
          ]
        }
      ]
    },
    {
      "cell_type": "code",
      "source": [
        "train_size = 788 #70%\n",
        "valid_size = 112 #10%\n",
        "test_size = 225 #20%\n",
        "\n",
        "train_data = torch.zeros(train_size,3,224,224)\n",
        "train_label = torch.zeros(train_size)\n",
        "valid_data = torch.zeros(valid_size,3,224,224)\n",
        "valid_label = torch.zeros(valid_size)\n",
        "test_data = torch.zeros(test_size,3,224,224)\n",
        "test_label = torch.zeros(test_size)\n",
        "\n",
        "#Normalizing the data \n",
        "mean = np.mean(imageList, axis = 0)\n",
        "std = np.std(imageList, axis = 0)\n",
        "dataset = (imageList-mean)/std\n",
        "dataset = torch.from_numpy(dataset)"
      ],
      "metadata": {
        "id": "aJeYkdn1-PID"
      },
      "execution_count": null,
      "outputs": []
    },
    {
      "cell_type": "code",
      "source": [
        "#Creating permutations of data from 0 to len(dataset)-1 \n",
        "#Later to be used for shuffling\n",
        "index = torch.randperm(len(dataset))"
      ],
      "metadata": {
        "id": "r05GNnD3B5i2"
      },
      "execution_count": null,
      "outputs": []
    },
    {
      "cell_type": "code",
      "source": [
        "#Shuffling and splitting the dataset\n",
        "idx_data = 0\n",
        "for i in index:\n",
        "    if idx_data < train_size:\n",
        "      train_data[idx_data,:,:,:], train_label[idx_data] = dataset[i,:,:,:], labels[i]\n",
        "\n",
        "    elif train_size <= idx_data < train_size + valid_size:\n",
        "      valid_data[idx_data-train_size,:,:,:], valid_label[idx_data-train_size] = dataset[i,:,:,:], labels[i]\n",
        "      \n",
        "    else:\n",
        "      test_data[idx_data-(train_size + valid_size),:,:,:], test_label[idx_data-(train_size + valid_size)] = dataset[i,:,:,:], labels[i]\n",
        "    idx_data +=1"
      ],
      "metadata": {
        "id": "Hde7m9WMBclv"
      },
      "execution_count": null,
      "outputs": []
    },
    {
      "cell_type": "code",
      "source": [
        "#Merging data with labels by calling the CustomDataset method\n",
        "merged_train_data = CustomDataset(train_data, train_label)\n",
        "merged_valid_data = CustomDataset(valid_data, valid_label)\n",
        "merged_test_data = CustomDataset(test_data, test_label)"
      ],
      "metadata": {
        "id": "lH4gVDHjBjeQ"
      },
      "execution_count": null,
      "outputs": []
    },
    {
      "cell_type": "code",
      "source": [
        "#Loading data to DataLoader as (image,label) type and shuffle again\n",
        "train_dataset = DataLoader(dataset = merged_train_data, batch_size = (64), shuffle = True)\n",
        "val_dataset = DataLoader(dataset = merged_valid_data, batch_size = (64), shuffle = True)\n",
        "test_dataset = DataLoader(dataset = merged_test_data, batch_size = (64), shuffle = True)\n"
      ],
      "metadata": {
        "id": "-6ft12iABmdc"
      },
      "execution_count": null,
      "outputs": []
    },
    {
      "cell_type": "markdown",
      "metadata": {
        "id": "ltjHllVn4juX"
      },
      "source": [
        "## Models [16 points]\n",
        "In this assignment, you will implement one CNN (Convolutional Neural Network) model and one FCN (Fully-Connected Network) model, where the class signatures are provided below."
      ]
    },
    {
      "cell_type": "markdown",
      "metadata": {
        "id": "VY-2PQauFJWn"
      },
      "source": [
        "### Convolutional Neural Network (CNN) Model [8 points]\n",
        "As the first model, you will implement a convolutional model. Your model will include 3 CONV + POOL blocks, which denotes one Convolutional layer followed by a Max Pooling Layer. The channel sizes for convolutional blocks are [16, 32, 64], respectively. For all convolutional layers, take kernel size as 3, stride as one, and apply padding such that convolutions do not change the shape on width and height dimensions. \n",
        "<br><br>\n",
        "Following the convolutional part, you will perform image classification for the dataset provided to you. You can use ReLU activation as the non-linearity in your model (except the classification layer)."
      ]
    },
    {
      "cell_type": "code",
      "execution_count": null,
      "metadata": {
        "id": "C1yM9RoqAYh8"
      },
      "outputs": [],
      "source": [
        "class ConvNet(nn.Module):\n",
        "    '''Define your convolutional neural network'''\n",
        "    def __init__(self, channel_sizes = [16,32,64], kernel_size = 3, num_outputs = 4, **kwargs):\n",
        "      super(ConvNet,self).__init__()\n",
        "      self.channel_sizes = channel_sizes\n",
        "      self.kernel_size = kernel_size\n",
        "      self.num_outputs = num_outputs\n",
        "      self.conv_network = nn.Sequential(\n",
        "          #The first layer\n",
        "          nn.Conv2d(in_channels=3, out_channels = self.channel_sizes[0], kernel_size = self.kernel_size, padding = 1),\n",
        "          nn.BatchNorm2d(self.channel_sizes[0]),\n",
        "          nn.ReLU(),\n",
        "          nn.MaxPool2d(2,2),\n",
        "\n",
        "          #The second layer\n",
        "          nn.Conv2d(in_channels=self.channel_sizes[0], out_channels = self.channel_sizes[1], kernel_size = self.kernel_size, padding = 1),\n",
        "          nn.BatchNorm2d(self.channel_sizes[1]),\n",
        "          nn.ReLU(),\n",
        "          nn.MaxPool2d(2,2),\n",
        "      \n",
        "          #The third layer\n",
        "          nn.Conv2d(in_channels=self.channel_sizes[1], out_channels = self.channel_sizes[2], kernel_size = self.kernel_size, padding = 1),\n",
        "          nn.BatchNorm2d(self.channel_sizes[2]),\n",
        "          nn.ReLU(),\n",
        "          nn.MaxPool2d(2,2))\n",
        "      \n",
        "      #Calculating the output size regarding the kernel sizes of pooling layers 2*2*2 = 8\n",
        "      self.conv_output_size = 224//8\n",
        "      self.linear =nn.Sequential( \n",
        "          nn.Linear(in_features=self.conv_output_size*self.conv_output_size*self.channel_sizes[2], out_features=64),\n",
        "          nn.ReLU(),\n",
        "          nn.Linear(in_features=64, out_features=32),\n",
        "          nn.ReLU(),\n",
        "          nn.Linear(in_features=32, out_features=16),\n",
        "          nn.ReLU(),\n",
        "          nn.Linear(in_features=16, out_features=self.num_outputs))\n",
        "\n",
        "    def forward(self, x):\n",
        "      x = self.conv_network(x)\n",
        "      #Flattening the image data\n",
        "      x = x.view(-1,self.conv_output_size*self.conv_output_size*self.channel_sizes[2])\n",
        "      x = self.linear(x)\n",
        "      return x"
      ]
    },
    {
      "cell_type": "markdown",
      "metadata": {
        "id": "b7plNvDmGmMO"
      },
      "source": [
        "### Fully Connected Network (FCN) Model [8 points]\n",
        "The second model you will try is a Fully Connected Network composed of Linear layers and non-linear activation functions connected to each other. For this part, the number of features for your linear layers is [1024, 512, 256]. Again, you can use ReLU as your non-linear activation function in your model (except the classification layer)."
      ]
    },
    {
      "cell_type": "code",
      "execution_count": null,
      "metadata": {
        "id": "spwuuCJcb5H_"
      },
      "outputs": [],
      "source": [
        "class FCNet(nn.Module):\n",
        "    '''Define your full connected network'''\n",
        "    def __init__(self, feature_sizes = [1024, 512, 256], num_outputs = 4, **kwargs):\n",
        "      super(FCNet,self).__init__()\n",
        "      self.feature_sizes = feature_sizes\n",
        "      self.num_outputs = num_outputs\n",
        "      self.network = nn.Sequential(\n",
        "          #Input layer\n",
        "          nn.Linear(in_features=224*224*3, out_features=self.feature_sizes[0]),\n",
        "          nn.ReLU(),\n",
        "\n",
        "          #Hidden Layer 1\n",
        "          nn.Linear(in_features=self.feature_sizes[0], out_features=self.feature_sizes[1]),\n",
        "          nn.ReLU(),\n",
        "\n",
        "          #Hidden Layer 2\n",
        "          nn.Linear(in_features=self.feature_sizes[1], out_features=self.feature_sizes[2]),\n",
        "          nn.ReLU(),\n",
        "\n",
        "          #Output Layer\n",
        "          nn.Linear(in_features=self.feature_sizes[2], out_features=self.num_outputs))\n",
        "  \n",
        "    def forward(self, x):\n",
        "      x = x.view(-1,224*224*3)\n",
        "      x = self.network(x)\n",
        "      return x"
      ]
    },
    {
      "cell_type": "markdown",
      "metadata": {
        "id": "TAQDCw1AgAJV"
      },
      "source": [
        "## Training and Evaluation of FCN [22 points]\n",
        "\n",
        "Now that you implemented the model definition of CNN and FCN, you will train these models with the hyperparameters you chose. The hyperparameters that you may change are listed in the cell below. Using the FCN model defined, train a classifier that predicts weather condition classes specified by the dataset. For the optimizer, use [SGD](https://pytorch.org/docs/stable/generated/torch.optim.SGD.html) optimizer provided by PyTorch. You should try out different hyper-parameters like learning rates, epochs, momentum, and weight decay. For [momentum](https://machinelearningmastery.com/gradient-descent-with-momentum-from-scratch/) and [weight decay](https://paperswithcode.com/method/weight-decay), you can read about these concepts if you are interested.\n",
        "\n",
        "While training your model, save your best model over different epochs. You must select an appropriate metric to define the best model at a time step. You can implement the training procedure in the cell below. If you want to explain the reasoning behind your metric selection, you can add a markdown cell and provide your comments."
      ]
    },
    {
      "cell_type": "markdown",
      "source": [
        "**NOTE**\n",
        "\n",
        "Instead of writing the same functions for all three of the models, I preferred to write one training and one test functions and try them with the three given methods. The functions are given below. Their outputs give the accuracy and loss scores."
      ],
      "metadata": {
        "id": "0hAzK3AiI3vZ"
      }
    },
    {
      "cell_type": "code",
      "source": [
        "def train_model(model, cross_entropy, optimizer, num_epochs):\n",
        "  train_epoch_loss = []\n",
        "  val_epoch_loss = []\n",
        "  train_epoch_acc = []\n",
        "  val_epoch_acc = []\n",
        "  for i in range(num_epochs):\n",
        "    model_loss = 0.0\n",
        "    correct_pred = 0\n",
        "    print(\"Epoch: \", i + 1, \"/\", max_epoch)\n",
        "    for data, label in tqdm(train_dataset):\n",
        "\n",
        "        #Setting the gradients to zero\n",
        "        optimizer.zero_grad()\n",
        "\n",
        "        #Forward training\n",
        "        model_output = model(data)\n",
        "        _, pred = torch.max(model_output,1)\n",
        "        label = label.to(torch.long)\n",
        "        batch_loss = cross_entropy(model_output, label)\n",
        "\n",
        "        #Performing backpropagation\n",
        "        batch_loss.backward()\n",
        "\n",
        "        #Updating parameter values\n",
        "        optimizer.step()\n",
        "        #Updating the loss \n",
        "        model_loss += batch_loss.item()\n",
        "        \n",
        "        size = len(train_dataset)\n",
        "        #Counting the accurate predictions\n",
        "        accurate_pred = (pred==label).sum().item()\n",
        "        correct_pred += accurate_pred\n",
        "\n",
        "    #Print the loss value per epoch\n",
        "    epoch_loss = model_loss/size\n",
        "    train_epoch_loss.append(epoch_loss)\n",
        "    print(\"The training loss for the\", i + 1, \"th epoch is\", epoch_loss)\n",
        "\n",
        "    #Print the accuracy value per epoch  \n",
        "    epoch_acc = correct_pred/train_size\n",
        "    train_epoch_acc.append(epoch_acc)\n",
        "    print(\"The training accuracy for the\", i + 1, \"th epoch is\", epoch_acc)\n",
        "    \n",
        "    #Validation data\n",
        "    val_model_loss = 0\n",
        "    accurate_count = 0\n",
        "    #While finding the accuracy and loss values for validation data, we do not need to calculate gradients\n",
        "    with torch.no_grad():\n",
        "      for val_data, val_label in val_dataset:\n",
        "        val_output = model(val_data)\n",
        "        _, val_pred = torch.max(val_output, 1)\n",
        "        val_label = val_label.to(torch.long)\n",
        "        val_loss = cross_entropy(val_output, val_label)\n",
        "        val_model_loss += val_loss.item()\n",
        "        accurate_count += (val_pred==val_label).sum().item()\n",
        "        val_size = len(val_dataset)\n",
        "      accurate_avg = accurate_count/valid_size\n",
        "      val_avg_loss = val_model_loss/val_size\n",
        "      val_epoch_loss.append(val_avg_loss)\n",
        "      val_epoch_acc.append(accurate_avg)\n",
        "\n",
        "      print(\"The validation loss for the\", i + 1, \"th epoch is\", val_avg_loss)\n",
        "      print(\"The validation accuracy for the\", i + 1, \"th epoch is\", accurate_avg)\n",
        "\n",
        "  return train_epoch_acc, train_epoch_loss, val_epoch_acc, val_epoch_loss"
      ],
      "metadata": {
        "id": "6KgedeEUG-Xo"
      },
      "execution_count": null,
      "outputs": []
    },
    {
      "cell_type": "code",
      "source": [
        "def test_model(model, cross_entropy, optimizer, num_epochs):\n",
        "  test_pred_label= torch.tensor([])\n",
        "  test_batch_label = torch.tensor([])\n",
        "  test_model_loss = 0\n",
        "  accurate_count = 0\n",
        "  #While finding the accuracy and loss values for test data, we do not need to calculate gradients\n",
        "  with torch.no_grad():\n",
        "    for test_data, test_label in test_dataset:\n",
        "      test_output = model(test_data)\n",
        "      _, test_pred = torch.max(test_output, 1)\n",
        "      test_pred_label = torch.cat((test_pred_label,test_pred),dim=0)\n",
        "      test_batch_label = torch.cat((test_batch_label,test_label),dim = 0)\n",
        "      test_label = test_label.to(torch.long)\n",
        "      test_loss = cross_entropy(test_output, test_label)\n",
        "      test_model_loss += test_loss.item()\n",
        "      accurate_count += (test_pred==test_label).sum().item()\n",
        "    test_avg_loss = test_model_loss/len(test_dataset)\n",
        "    accurate_avg = accurate_count/test_size\n",
        "\n",
        "    print(\"The test accuracy is\", accurate_avg)\n",
        "    \n",
        "  return accurate_avg, test_pred_label, test_batch_label\n"
      ],
      "metadata": {
        "id": "m74MW-dXHALT"
      },
      "execution_count": null,
      "outputs": []
    },
    {
      "cell_type": "code",
      "source": [
        "def plot_graph(num_epoch, train_acc,val_acc,train_loss,val_loss):\n",
        "\n",
        "  # Plotting the graph for accuracy\n",
        "  plt.plot(np.array(range(num_epoch)), train_acc, label = 'Training Data')\n",
        "  plt.plot(np.array(range(num_epoch)), val_acc, label ='Validation Data')  \n",
        "\n",
        "  plt.xlabel('Epochs')\n",
        "  plt.ylabel('Accuracy')\n",
        "\n",
        "  plt.title('Number of Epochs vs Accuracy')\n",
        "\n",
        "  plt.legend() \n",
        "  plt.show()\n",
        "\n",
        "  # Plotting the graph for loss\n",
        "  plt.plot(np.array(range(num_epoch)), train_loss, label = 'Training Data')\n",
        "  plt.plot(np.array(range(num_epoch)), val_loss, label ='Validation Data')  \n",
        "\n",
        "  plt.xlabel('Epochs')\n",
        "  plt.ylabel('Loss')\n",
        "    \n",
        "  plt.title('Number of Epochs vs Loss')\n",
        "\n",
        "  plt.legend() \n",
        "  plt.show()\n",
        "  return "
      ],
      "metadata": {
        "id": "SixQlAr3KJTF"
      },
      "execution_count": null,
      "outputs": []
    },
    {
      "cell_type": "markdown",
      "metadata": {
        "id": "QMin6YgCgAJa"
      },
      "source": [
        "### Training [12 points]"
      ]
    },
    {
      "cell_type": "code",
      "execution_count": null,
      "metadata": {
        "id": "bmV69xm_gAJa",
        "colab": {
          "base_uri": "https://localhost:8080/"
        },
        "outputId": "8445c088-3fbe-468c-f6e5-dccaecbe5e21"
      },
      "outputs": [
        {
          "output_type": "stream",
          "name": "stdout",
          "text": [
            "Epoch:  1 / 50\n"
          ]
        },
        {
          "output_type": "stream",
          "name": "stderr",
          "text": [
            "100%|██████████| 13/13 [00:17<00:00,  1.35s/it]\n"
          ]
        },
        {
          "output_type": "stream",
          "name": "stdout",
          "text": [
            "The training loss for the 1 th epoch is 0.7806829970616561\n",
            "The training accuracy for the 1 th epoch is 0.6776649746192893\n",
            "The validation loss for the 1 th epoch is 1.7485661506652832\n",
            "The validation accuracy for the 1 th epoch is 0.6607142857142857\n",
            "Epoch:  2 / 50\n"
          ]
        },
        {
          "output_type": "stream",
          "name": "stderr",
          "text": [
            "100%|██████████| 13/13 [00:17<00:00,  1.37s/it]\n"
          ]
        },
        {
          "output_type": "stream",
          "name": "stdout",
          "text": [
            "The training loss for the 2 th epoch is 0.7619659029520475\n",
            "The training accuracy for the 2 th epoch is 0.7550761421319797\n",
            "The validation loss for the 2 th epoch is 0.6532453298568726\n",
            "The validation accuracy for the 2 th epoch is 0.7053571428571429\n",
            "Epoch:  3 / 50\n"
          ]
        },
        {
          "output_type": "stream",
          "name": "stderr",
          "text": [
            "100%|██████████| 13/13 [00:17<00:00,  1.31s/it]\n"
          ]
        },
        {
          "output_type": "stream",
          "name": "stdout",
          "text": [
            "The training loss for the 3 th epoch is 0.45718064445715684\n",
            "The training accuracy for the 3 th epoch is 0.8236040609137056\n",
            "The validation loss for the 3 th epoch is 0.6927591860294342\n",
            "The validation accuracy for the 3 th epoch is 0.75\n",
            "Epoch:  4 / 50\n"
          ]
        },
        {
          "output_type": "stream",
          "name": "stderr",
          "text": [
            "100%|██████████| 13/13 [00:19<00:00,  1.48s/it]\n"
          ]
        },
        {
          "output_type": "stream",
          "name": "stdout",
          "text": [
            "The training loss for the 4 th epoch is 0.3955581681086467\n",
            "The training accuracy for the 4 th epoch is 0.8718274111675127\n",
            "The validation loss for the 4 th epoch is 0.923905074596405\n",
            "The validation accuracy for the 4 th epoch is 0.7053571428571429\n",
            "Epoch:  5 / 50\n"
          ]
        },
        {
          "output_type": "stream",
          "name": "stderr",
          "text": [
            "100%|██████████| 13/13 [00:21<00:00,  1.66s/it]\n"
          ]
        },
        {
          "output_type": "stream",
          "name": "stdout",
          "text": [
            "The training loss for the 5 th epoch is 0.3621181146456645\n",
            "The training accuracy for the 5 th epoch is 0.8553299492385786\n",
            "The validation loss for the 5 th epoch is 0.6333097219467163\n",
            "The validation accuracy for the 5 th epoch is 0.8035714285714286\n",
            "Epoch:  6 / 50\n"
          ]
        },
        {
          "output_type": "stream",
          "name": "stderr",
          "text": [
            "100%|██████████| 13/13 [00:18<00:00,  1.39s/it]\n"
          ]
        },
        {
          "output_type": "stream",
          "name": "stdout",
          "text": [
            "The training loss for the 6 th epoch is 0.27290223653499895\n",
            "The training accuracy for the 6 th epoch is 0.8857868020304569\n",
            "The validation loss for the 6 th epoch is 0.42187584936618805\n",
            "The validation accuracy for the 6 th epoch is 0.8303571428571429\n",
            "Epoch:  7 / 50\n"
          ]
        },
        {
          "output_type": "stream",
          "name": "stderr",
          "text": [
            "100%|██████████| 13/13 [00:21<00:00,  1.67s/it]\n"
          ]
        },
        {
          "output_type": "stream",
          "name": "stdout",
          "text": [
            "The training loss for the 7 th epoch is 0.17152180494024202\n",
            "The training accuracy for the 7 th epoch is 0.9302030456852792\n",
            "The validation loss for the 7 th epoch is 0.3281799778342247\n",
            "The validation accuracy for the 7 th epoch is 0.8392857142857143\n",
            "Epoch:  8 / 50\n"
          ]
        },
        {
          "output_type": "stream",
          "name": "stderr",
          "text": [
            "100%|██████████| 13/13 [00:21<00:00,  1.63s/it]\n"
          ]
        },
        {
          "output_type": "stream",
          "name": "stdout",
          "text": [
            "The training loss for the 8 th epoch is 0.10463022497984079\n",
            "The training accuracy for the 8 th epoch is 0.9606598984771574\n",
            "The validation loss for the 8 th epoch is 0.403305321931839\n",
            "The validation accuracy for the 8 th epoch is 0.8839285714285714\n",
            "Epoch:  9 / 50\n"
          ]
        },
        {
          "output_type": "stream",
          "name": "stderr",
          "text": [
            "100%|██████████| 13/13 [00:17<00:00,  1.35s/it]\n"
          ]
        },
        {
          "output_type": "stream",
          "name": "stdout",
          "text": [
            "The training loss for the 9 th epoch is 0.07495301474745457\n",
            "The training accuracy for the 9 th epoch is 0.9771573604060914\n",
            "The validation loss for the 9 th epoch is 0.6308749318122864\n",
            "The validation accuracy for the 9 th epoch is 0.8125\n",
            "Epoch:  10 / 50\n"
          ]
        },
        {
          "output_type": "stream",
          "name": "stderr",
          "text": [
            "100%|██████████| 13/13 [00:17<00:00,  1.36s/it]\n"
          ]
        },
        {
          "output_type": "stream",
          "name": "stdout",
          "text": [
            "The training loss for the 10 th epoch is 0.15144235812700713\n",
            "The training accuracy for the 10 th epoch is 0.950507614213198\n",
            "The validation loss for the 10 th epoch is 0.7631403654813766\n",
            "The validation accuracy for the 10 th epoch is 0.8125\n",
            "Epoch:  11 / 50\n"
          ]
        },
        {
          "output_type": "stream",
          "name": "stderr",
          "text": [
            "100%|██████████| 13/13 [00:23<00:00,  1.83s/it]\n"
          ]
        },
        {
          "output_type": "stream",
          "name": "stdout",
          "text": [
            "The training loss for the 11 th epoch is 0.15558431612757537\n",
            "The training accuracy for the 11 th epoch is 0.9467005076142132\n",
            "The validation loss for the 11 th epoch is 0.4479931443929672\n",
            "The validation accuracy for the 11 th epoch is 0.8303571428571429\n",
            "Epoch:  12 / 50\n"
          ]
        },
        {
          "output_type": "stream",
          "name": "stderr",
          "text": [
            "100%|██████████| 13/13 [00:17<00:00,  1.36s/it]\n"
          ]
        },
        {
          "output_type": "stream",
          "name": "stdout",
          "text": [
            "The training loss for the 12 th epoch is 0.06456912323259391\n",
            "The training accuracy for the 12 th epoch is 0.9784263959390863\n",
            "The validation loss for the 12 th epoch is 0.5059163719415665\n",
            "The validation accuracy for the 12 th epoch is 0.8482142857142857\n",
            "Epoch:  13 / 50\n"
          ]
        },
        {
          "output_type": "stream",
          "name": "stderr",
          "text": [
            "100%|██████████| 13/13 [00:18<00:00,  1.40s/it]\n"
          ]
        },
        {
          "output_type": "stream",
          "name": "stdout",
          "text": [
            "The training loss for the 13 th epoch is 0.1275335762363214\n",
            "The training accuracy for the 13 th epoch is 0.9555837563451777\n",
            "The validation loss for the 13 th epoch is 0.5020356476306915\n",
            "The validation accuracy for the 13 th epoch is 0.8035714285714286\n",
            "Epoch:  14 / 50\n"
          ]
        },
        {
          "output_type": "stream",
          "name": "stderr",
          "text": [
            "100%|██████████| 13/13 [00:20<00:00,  1.54s/it]\n"
          ]
        },
        {
          "output_type": "stream",
          "name": "stdout",
          "text": [
            "The training loss for the 14 th epoch is 0.04793994666005556\n",
            "The training accuracy for the 14 th epoch is 0.9885786802030457\n",
            "The validation loss for the 14 th epoch is 0.8204960227012634\n",
            "The validation accuracy for the 14 th epoch is 0.7767857142857143\n",
            "Epoch:  15 / 50\n"
          ]
        },
        {
          "output_type": "stream",
          "name": "stderr",
          "text": [
            "100%|██████████| 13/13 [00:17<00:00,  1.32s/it]\n"
          ]
        },
        {
          "output_type": "stream",
          "name": "stdout",
          "text": [
            "The training loss for the 15 th epoch is 0.06915611243591858\n",
            "The training accuracy for the 15 th epoch is 0.9784263959390863\n",
            "The validation loss for the 15 th epoch is 0.4220793694257736\n",
            "The validation accuracy for the 15 th epoch is 0.8839285714285714\n",
            "Epoch:  16 / 50\n"
          ]
        },
        {
          "output_type": "stream",
          "name": "stderr",
          "text": [
            "100%|██████████| 13/13 [00:23<00:00,  1.81s/it]\n"
          ]
        },
        {
          "output_type": "stream",
          "name": "stdout",
          "text": [
            "The training loss for the 16 th epoch is 0.033624705858528614\n",
            "The training accuracy for the 16 th epoch is 0.9898477157360406\n",
            "The validation loss for the 16 th epoch is 0.48578712344169617\n",
            "The validation accuracy for the 16 th epoch is 0.875\n",
            "Epoch:  17 / 50\n"
          ]
        },
        {
          "output_type": "stream",
          "name": "stderr",
          "text": [
            "100%|██████████| 13/13 [00:20<00:00,  1.59s/it]\n"
          ]
        },
        {
          "output_type": "stream",
          "name": "stdout",
          "text": [
            "The training loss for the 17 th epoch is 0.09665145286215612\n",
            "The training accuracy for the 17 th epoch is 0.9885786802030457\n",
            "The validation loss for the 17 th epoch is 0.724189430475235\n",
            "The validation accuracy for the 17 th epoch is 0.8214285714285714\n",
            "Epoch:  18 / 50\n"
          ]
        },
        {
          "output_type": "stream",
          "name": "stderr",
          "text": [
            "100%|██████████| 13/13 [00:17<00:00,  1.37s/it]\n"
          ]
        },
        {
          "output_type": "stream",
          "name": "stdout",
          "text": [
            "The training loss for the 18 th epoch is 0.2961426234016052\n",
            "The training accuracy for the 18 th epoch is 0.9124365482233503\n",
            "The validation loss for the 18 th epoch is 0.3871053010225296\n",
            "The validation accuracy for the 18 th epoch is 0.8482142857142857\n",
            "Epoch:  19 / 50\n"
          ]
        },
        {
          "output_type": "stream",
          "name": "stderr",
          "text": [
            "100%|██████████| 13/13 [00:20<00:00,  1.56s/it]\n"
          ]
        },
        {
          "output_type": "stream",
          "name": "stdout",
          "text": [
            "The training loss for the 19 th epoch is 0.10115051785340676\n",
            "The training accuracy for the 19 th epoch is 0.9682741116751269\n",
            "The validation loss for the 19 th epoch is 0.3913237452507019\n",
            "The validation accuracy for the 19 th epoch is 0.8392857142857143\n",
            "Epoch:  20 / 50\n"
          ]
        },
        {
          "output_type": "stream",
          "name": "stderr",
          "text": [
            "100%|██████████| 13/13 [00:22<00:00,  1.70s/it]\n"
          ]
        },
        {
          "output_type": "stream",
          "name": "stdout",
          "text": [
            "The training loss for the 20 th epoch is 0.04086533590004994\n",
            "The training accuracy for the 20 th epoch is 0.9860406091370558\n",
            "The validation loss for the 20 th epoch is 0.44156526029109955\n",
            "The validation accuracy for the 20 th epoch is 0.8482142857142857\n",
            "Epoch:  21 / 50\n"
          ]
        },
        {
          "output_type": "stream",
          "name": "stderr",
          "text": [
            "100%|██████████| 13/13 [00:17<00:00,  1.37s/it]\n"
          ]
        },
        {
          "output_type": "stream",
          "name": "stdout",
          "text": [
            "The training loss for the 21 th epoch is 0.03622592774291451\n",
            "The training accuracy for the 21 th epoch is 0.9873096446700508\n",
            "The validation loss for the 21 th epoch is 0.4667656868696213\n",
            "The validation accuracy for the 21 th epoch is 0.8303571428571429\n",
            "Epoch:  22 / 50\n"
          ]
        },
        {
          "output_type": "stream",
          "name": "stderr",
          "text": [
            "100%|██████████| 13/13 [00:23<00:00,  1.83s/it]\n"
          ]
        },
        {
          "output_type": "stream",
          "name": "stdout",
          "text": [
            "The training loss for the 22 th epoch is 0.019623711776848022\n",
            "The training accuracy for the 22 th epoch is 0.9936548223350253\n",
            "The validation loss for the 22 th epoch is 0.42655719816684723\n",
            "The validation accuracy for the 22 th epoch is 0.875\n",
            "Epoch:  23 / 50\n"
          ]
        },
        {
          "output_type": "stream",
          "name": "stderr",
          "text": [
            "100%|██████████| 13/13 [00:16<00:00,  1.31s/it]\n"
          ]
        },
        {
          "output_type": "stream",
          "name": "stdout",
          "text": [
            "The training loss for the 23 th epoch is 0.014368800562806427\n",
            "The training accuracy for the 23 th epoch is 0.9949238578680203\n",
            "The validation loss for the 23 th epoch is 0.48334164917469025\n",
            "The validation accuracy for the 23 th epoch is 0.8660714285714286\n",
            "Epoch:  24 / 50\n"
          ]
        },
        {
          "output_type": "stream",
          "name": "stderr",
          "text": [
            "100%|██████████| 13/13 [00:17<00:00,  1.33s/it]\n"
          ]
        },
        {
          "output_type": "stream",
          "name": "stdout",
          "text": [
            "The training loss for the 24 th epoch is 0.012983534001530362\n",
            "The training accuracy for the 24 th epoch is 0.9961928934010152\n",
            "The validation loss for the 24 th epoch is 0.47818411886692047\n",
            "The validation accuracy for the 24 th epoch is 0.8660714285714286\n",
            "Epoch:  25 / 50\n"
          ]
        },
        {
          "output_type": "stream",
          "name": "stderr",
          "text": [
            "100%|██████████| 13/13 [00:17<00:00,  1.31s/it]\n"
          ]
        },
        {
          "output_type": "stream",
          "name": "stdout",
          "text": [
            "The training loss for the 25 th epoch is 0.005660642359334116\n",
            "The training accuracy for the 25 th epoch is 0.9974619289340102\n",
            "The validation loss for the 25 th epoch is 0.46071507036685944\n",
            "The validation accuracy for the 25 th epoch is 0.8660714285714286\n",
            "Epoch:  26 / 50\n"
          ]
        },
        {
          "output_type": "stream",
          "name": "stderr",
          "text": [
            "100%|██████████| 13/13 [00:17<00:00,  1.31s/it]\n"
          ]
        },
        {
          "output_type": "stream",
          "name": "stdout",
          "text": [
            "The training loss for the 26 th epoch is 0.002205327184548458\n",
            "The training accuracy for the 26 th epoch is 1.0\n",
            "The validation loss for the 26 th epoch is 0.4651198610663414\n",
            "The validation accuracy for the 26 th epoch is 0.8660714285714286\n",
            "Epoch:  27 / 50\n"
          ]
        },
        {
          "output_type": "stream",
          "name": "stderr",
          "text": [
            "100%|██████████| 13/13 [00:16<00:00,  1.30s/it]\n"
          ]
        },
        {
          "output_type": "stream",
          "name": "stdout",
          "text": [
            "The training loss for the 27 th epoch is 0.001778167139631338\n",
            "The training accuracy for the 27 th epoch is 1.0\n",
            "The validation loss for the 27 th epoch is 0.4911176711320877\n",
            "The validation accuracy for the 27 th epoch is 0.8660714285714286\n",
            "Epoch:  28 / 50\n"
          ]
        },
        {
          "output_type": "stream",
          "name": "stderr",
          "text": [
            "100%|██████████| 13/13 [00:17<00:00,  1.35s/it]\n"
          ]
        },
        {
          "output_type": "stream",
          "name": "stdout",
          "text": [
            "The training loss for the 28 th epoch is 0.001449612623008971\n",
            "The training accuracy for the 28 th epoch is 1.0\n",
            "The validation loss for the 28 th epoch is 0.4875718504190445\n",
            "The validation accuracy for the 28 th epoch is 0.8660714285714286\n",
            "Epoch:  29 / 50\n"
          ]
        },
        {
          "output_type": "stream",
          "name": "stderr",
          "text": [
            "100%|██████████| 13/13 [00:17<00:00,  1.31s/it]\n"
          ]
        },
        {
          "output_type": "stream",
          "name": "stdout",
          "text": [
            "The training loss for the 29 th epoch is 0.0012083741334768443\n",
            "The training accuracy for the 29 th epoch is 1.0\n",
            "The validation loss for the 29 th epoch is 0.5396410524845123\n",
            "The validation accuracy for the 29 th epoch is 0.8660714285714286\n",
            "Epoch:  30 / 50\n"
          ]
        },
        {
          "output_type": "stream",
          "name": "stderr",
          "text": [
            "100%|██████████| 13/13 [00:17<00:00,  1.38s/it]\n"
          ]
        },
        {
          "output_type": "stream",
          "name": "stdout",
          "text": [
            "The training loss for the 30 th epoch is 0.001003347442467482\n",
            "The training accuracy for the 30 th epoch is 1.0\n",
            "The validation loss for the 30 th epoch is 0.5301178097724915\n",
            "The validation accuracy for the 30 th epoch is 0.8660714285714286\n",
            "Epoch:  31 / 50\n"
          ]
        },
        {
          "output_type": "stream",
          "name": "stderr",
          "text": [
            "100%|██████████| 13/13 [00:17<00:00,  1.31s/it]\n"
          ]
        },
        {
          "output_type": "stream",
          "name": "stdout",
          "text": [
            "The training loss for the 31 th epoch is 0.000884028360955059\n",
            "The training accuracy for the 31 th epoch is 1.0\n",
            "The validation loss for the 31 th epoch is 0.5055493414402008\n",
            "The validation accuracy for the 31 th epoch is 0.8660714285714286\n",
            "Epoch:  32 / 50\n"
          ]
        },
        {
          "output_type": "stream",
          "name": "stderr",
          "text": [
            "100%|██████████| 13/13 [00:16<00:00,  1.30s/it]\n"
          ]
        },
        {
          "output_type": "stream",
          "name": "stdout",
          "text": [
            "The training loss for the 32 th epoch is 0.0007962330419104546\n",
            "The training accuracy for the 32 th epoch is 1.0\n",
            "The validation loss for the 32 th epoch is 0.5436002016067505\n",
            "The validation accuracy for the 32 th epoch is 0.8660714285714286\n",
            "Epoch:  33 / 50\n"
          ]
        },
        {
          "output_type": "stream",
          "name": "stderr",
          "text": [
            "100%|██████████| 13/13 [00:17<00:00,  1.31s/it]\n"
          ]
        },
        {
          "output_type": "stream",
          "name": "stdout",
          "text": [
            "The training loss for the 33 th epoch is 0.0007200408100078886\n",
            "The training accuracy for the 33 th epoch is 1.0\n",
            "The validation loss for the 33 th epoch is 0.5471133589744568\n",
            "The validation accuracy for the 33 th epoch is 0.8660714285714286\n",
            "Epoch:  34 / 50\n"
          ]
        },
        {
          "output_type": "stream",
          "name": "stderr",
          "text": [
            "100%|██████████| 13/13 [00:17<00:00,  1.31s/it]\n"
          ]
        },
        {
          "output_type": "stream",
          "name": "stdout",
          "text": [
            "The training loss for the 34 th epoch is 0.0006582526302036757\n",
            "The training accuracy for the 34 th epoch is 1.0\n",
            "The validation loss for the 34 th epoch is 0.5552961230278015\n",
            "The validation accuracy for the 34 th epoch is 0.8660714285714286\n",
            "Epoch:  35 / 50\n"
          ]
        },
        {
          "output_type": "stream",
          "name": "stderr",
          "text": [
            "100%|██████████| 13/13 [00:17<00:00,  1.31s/it]\n"
          ]
        },
        {
          "output_type": "stream",
          "name": "stdout",
          "text": [
            "The training loss for the 35 th epoch is 0.0005860924183462674\n",
            "The training accuracy for the 35 th epoch is 1.0\n",
            "The validation loss for the 35 th epoch is 0.5657947659492493\n",
            "The validation accuracy for the 35 th epoch is 0.8660714285714286\n",
            "Epoch:  36 / 50\n"
          ]
        },
        {
          "output_type": "stream",
          "name": "stderr",
          "text": [
            "100%|██████████| 13/13 [00:17<00:00,  1.31s/it]\n"
          ]
        },
        {
          "output_type": "stream",
          "name": "stdout",
          "text": [
            "The training loss for the 36 th epoch is 0.0005453612270335165\n",
            "The training accuracy for the 36 th epoch is 1.0\n",
            "The validation loss for the 36 th epoch is 0.5879543423652649\n",
            "The validation accuracy for the 36 th epoch is 0.8660714285714286\n",
            "Epoch:  37 / 50\n"
          ]
        },
        {
          "output_type": "stream",
          "name": "stderr",
          "text": [
            "100%|██████████| 13/13 [00:17<00:00,  1.31s/it]\n"
          ]
        },
        {
          "output_type": "stream",
          "name": "stdout",
          "text": [
            "The training loss for the 37 th epoch is 0.0004944747208635538\n",
            "The training accuracy for the 37 th epoch is 1.0\n",
            "The validation loss for the 37 th epoch is 0.5167698487639427\n",
            "The validation accuracy for the 37 th epoch is 0.8660714285714286\n",
            "Epoch:  38 / 50\n"
          ]
        },
        {
          "output_type": "stream",
          "name": "stderr",
          "text": [
            "100%|██████████| 13/13 [00:17<00:00,  1.32s/it]\n"
          ]
        },
        {
          "output_type": "stream",
          "name": "stdout",
          "text": [
            "The training loss for the 38 th epoch is 0.0004931300399430955\n",
            "The training accuracy for the 38 th epoch is 1.0\n",
            "The validation loss for the 38 th epoch is 0.5588600635528564\n",
            "The validation accuracy for the 38 th epoch is 0.8571428571428571\n",
            "Epoch:  39 / 50\n"
          ]
        },
        {
          "output_type": "stream",
          "name": "stderr",
          "text": [
            "100%|██████████| 13/13 [00:16<00:00,  1.31s/it]\n"
          ]
        },
        {
          "output_type": "stream",
          "name": "stdout",
          "text": [
            "The training loss for the 39 th epoch is 0.00043679424267723405\n",
            "The training accuracy for the 39 th epoch is 1.0\n",
            "The validation loss for the 39 th epoch is 0.5594243109226227\n",
            "The validation accuracy for the 39 th epoch is 0.8660714285714286\n",
            "Epoch:  40 / 50\n"
          ]
        },
        {
          "output_type": "stream",
          "name": "stderr",
          "text": [
            "100%|██████████| 13/13 [00:17<00:00,  1.32s/it]\n"
          ]
        },
        {
          "output_type": "stream",
          "name": "stdout",
          "text": [
            "The training loss for the 40 th epoch is 0.00045286762626626744\n",
            "The training accuracy for the 40 th epoch is 1.0\n",
            "The validation loss for the 40 th epoch is 0.5865634977817535\n",
            "The validation accuracy for the 40 th epoch is 0.8660714285714286\n",
            "Epoch:  41 / 50\n"
          ]
        },
        {
          "output_type": "stream",
          "name": "stderr",
          "text": [
            "100%|██████████| 13/13 [00:17<00:00,  1.32s/it]\n"
          ]
        },
        {
          "output_type": "stream",
          "name": "stdout",
          "text": [
            "The training loss for the 41 th epoch is 0.00041883239016617433\n",
            "The training accuracy for the 41 th epoch is 1.0\n",
            "The validation loss for the 41 th epoch is 0.5499991029500961\n",
            "The validation accuracy for the 41 th epoch is 0.8571428571428571\n",
            "Epoch:  42 / 50\n"
          ]
        },
        {
          "output_type": "stream",
          "name": "stderr",
          "text": [
            "100%|██████████| 13/13 [00:17<00:00,  1.31s/it]\n"
          ]
        },
        {
          "output_type": "stream",
          "name": "stdout",
          "text": [
            "The training loss for the 42 th epoch is 0.0003764294378925115\n",
            "The training accuracy for the 42 th epoch is 1.0\n",
            "The validation loss for the 42 th epoch is 0.5255701877176762\n",
            "The validation accuracy for the 42 th epoch is 0.8660714285714286\n",
            "Epoch:  43 / 50\n"
          ]
        },
        {
          "output_type": "stream",
          "name": "stderr",
          "text": [
            "100%|██████████| 13/13 [00:17<00:00,  1.33s/it]\n"
          ]
        },
        {
          "output_type": "stream",
          "name": "stdout",
          "text": [
            "The training loss for the 43 th epoch is 0.00036345714873347717\n",
            "The training accuracy for the 43 th epoch is 1.0\n",
            "The validation loss for the 43 th epoch is 0.6022814214229584\n",
            "The validation accuracy for the 43 th epoch is 0.8571428571428571\n",
            "Epoch:  44 / 50\n"
          ]
        },
        {
          "output_type": "stream",
          "name": "stderr",
          "text": [
            "100%|██████████| 13/13 [00:18<00:00,  1.40s/it]\n"
          ]
        },
        {
          "output_type": "stream",
          "name": "stdout",
          "text": [
            "The training loss for the 44 th epoch is 0.00034250038823721785\n",
            "The training accuracy for the 44 th epoch is 1.0\n",
            "The validation loss for the 44 th epoch is 0.5624300092458725\n",
            "The validation accuracy for the 44 th epoch is 0.8571428571428571\n",
            "Epoch:  45 / 50\n"
          ]
        },
        {
          "output_type": "stream",
          "name": "stderr",
          "text": [
            "100%|██████████| 13/13 [00:17<00:00,  1.33s/it]\n"
          ]
        },
        {
          "output_type": "stream",
          "name": "stdout",
          "text": [
            "The training loss for the 45 th epoch is 0.0003601973798000612\n",
            "The training accuracy for the 45 th epoch is 1.0\n",
            "The validation loss for the 45 th epoch is 0.5583801716566086\n",
            "The validation accuracy for the 45 th epoch is 0.8660714285714286\n",
            "Epoch:  46 / 50\n"
          ]
        },
        {
          "output_type": "stream",
          "name": "stderr",
          "text": [
            "100%|██████████| 13/13 [00:17<00:00,  1.33s/it]\n"
          ]
        },
        {
          "output_type": "stream",
          "name": "stdout",
          "text": [
            "The training loss for the 46 th epoch is 0.00032856556712291564\n",
            "The training accuracy for the 46 th epoch is 1.0\n",
            "The validation loss for the 46 th epoch is 0.6112347692251205\n",
            "The validation accuracy for the 46 th epoch is 0.8571428571428571\n",
            "Epoch:  47 / 50\n"
          ]
        },
        {
          "output_type": "stream",
          "name": "stderr",
          "text": [
            "100%|██████████| 13/13 [00:17<00:00,  1.33s/it]\n"
          ]
        },
        {
          "output_type": "stream",
          "name": "stdout",
          "text": [
            "The training loss for the 47 th epoch is 0.0003497512880130671\n",
            "The training accuracy for the 47 th epoch is 1.0\n",
            "The validation loss for the 47 th epoch is 0.5901092290878296\n",
            "The validation accuracy for the 47 th epoch is 0.8571428571428571\n",
            "Epoch:  48 / 50\n"
          ]
        },
        {
          "output_type": "stream",
          "name": "stderr",
          "text": [
            "100%|██████████| 13/13 [00:17<00:00,  1.33s/it]\n"
          ]
        },
        {
          "output_type": "stream",
          "name": "stdout",
          "text": [
            "The training loss for the 48 th epoch is 0.00032209601732364926\n",
            "The training accuracy for the 48 th epoch is 1.0\n",
            "The validation loss for the 48 th epoch is 0.5935768187046051\n",
            "The validation accuracy for the 48 th epoch is 0.8571428571428571\n",
            "Epoch:  49 / 50\n"
          ]
        },
        {
          "output_type": "stream",
          "name": "stderr",
          "text": [
            "100%|██████████| 13/13 [00:17<00:00,  1.32s/it]\n"
          ]
        },
        {
          "output_type": "stream",
          "name": "stdout",
          "text": [
            "The training loss for the 49 th epoch is 0.0002930939685589132\n",
            "The training accuracy for the 49 th epoch is 1.0\n",
            "The validation loss for the 49 th epoch is 0.5644818991422653\n",
            "The validation accuracy for the 49 th epoch is 0.8571428571428571\n",
            "Epoch:  50 / 50\n"
          ]
        },
        {
          "output_type": "stream",
          "name": "stderr",
          "text": [
            "100%|██████████| 13/13 [00:17<00:00,  1.33s/it]\n"
          ]
        },
        {
          "output_type": "stream",
          "name": "stdout",
          "text": [
            "The training loss for the 50 th epoch is 0.00027887036972410546\n",
            "The training accuracy for the 50 th epoch is 1.0\n",
            "The validation loss for the 50 th epoch is 0.6096804440021515\n",
            "The validation accuracy for the 50 th epoch is 0.8571428571428571\n"
          ]
        }
      ],
      "source": [
        "#TODO:\n",
        "#The optimal hyperparameters are the given ones among what I tried before, except for the number of epochs.\n",
        "max_epoch = 50\n",
        "train_batch = 64\n",
        "test_batch = 64\n",
        "learning_rate = 5e-2\n",
        "momentum = 0.5\n",
        "weight_decay = 5e-04\n",
        "\n",
        "# TODO: training loop + eval\n",
        "model_fcn = FCNet()\n",
        "#Cross-Entropy Loss is used for classification problems and it is the criterion to detect the optimal hyperparameters\n",
        "cross_entropy = nn.CrossEntropyLoss()\n",
        "#Implement SGD and get the learnable parameters of the model\n",
        "optimizer = torch.optim.SGD(model_fcn.parameters(), lr=learning_rate, momentum=momentum, weight_decay=weight_decay)\n",
        "\n",
        "train_epoch_acc_fcn, train_epoch_loss_fcn, val_epoch_acc_fcn, val_epoch_loss_fcn = train_model(model_fcn, cross_entropy, optimizer, max_epoch)"
      ]
    },
    {
      "cell_type": "markdown",
      "metadata": {
        "id": "AerO0TZ0gAJa"
      },
      "source": [
        "### Learning Process Analysis [5 points]\n",
        "Following the training step, you will now provide accuracy and loss plots over all epochs. For this, provide two plots:\n",
        "- In the first plot, you will provide the value of the accuracy metric over epochs. Your plot should include two curves, one for the training set and the other for the validation set.\n",
        "- For the second plot, provide the curve for loss values over epochs. Again your plot should include two curves, where one indicates loss on the training set and the second indicates loss for the validation set."
      ]
    },
    {
      "cell_type": "code",
      "execution_count": null,
      "metadata": {
        "id": "iiXtRpe9RI11",
        "colab": {
          "base_uri": "https://localhost:8080/",
          "height": 573
        },
        "outputId": "70a0981e-2d2e-40fb-ccfb-46acebb862db"
      },
      "outputs": [
        {
          "output_type": "display_data",
          "data": {
            "text/plain": [
              "<Figure size 432x288 with 1 Axes>"
            ],
            "image/png": "[encoded data removed]"
          },
          "metadata": {
            "needs_background": "light"
          }
        },
        {
          "output_type": "display_data",
          "data": {
            "text/plain": [
              "<Figure size 432x288 with 1 Axes>"
            ],
            "image/png": "[encoded data removed]"
          },
          "metadata": {
            "needs_background": "light"
          }
        }
      ],
      "source": [
        "# TODO: Implement your plots here, you can use matplotlib library to do so.\n",
        "\n",
        "plot_graph(max_epoch, train_epoch_acc_fcn, val_epoch_acc_fcn, train_epoch_loss_fcn, val_epoch_loss_fcn)\n"
      ]
    },
    {
      "cell_type": "markdown",
      "metadata": {
        "id": "y0ZcDuLQQysp"
      },
      "source": [
        "### Test [5 points]\n",
        "As the final step of your analysis, you will test your model using some metrics. For the best model you obtained during training, evaluate your model on the test set. Then, report the confusion matrix. Finally, report accuracy, precision, recall, and $F_1$ score using your model. Report all these metrics using the macro form (macro precision, macro recall, etc.). You can implement these metrics in the cell below. "
      ]
    },
    {
      "cell_type": "code",
      "execution_count": null,
      "metadata": {
        "id": "ptAiYhAIR6O5",
        "colab": {
          "base_uri": "https://localhost:8080/"
        },
        "outputId": "be042c5c-e049-4e94-b6e4-0000d7e48e44"
      },
      "outputs": [
        {
          "output_type": "stream",
          "name": "stdout",
          "text": [
            "The test accuracy is 0.8355555555555556\n"
          ]
        }
      ],
      "source": [
        "# TODO: Implement your evaluation script here, provide the confusion matrix and the requested metrics\n",
        "#Test Data\n",
        "accurate_avg_fcn, test_pred_label_fcn, test_batch_label_fcn = test_model(model_fcn, cross_entropy, optimizer, max_epoch)"
      ]
    },
    {
      "cell_type": "code",
      "source": [
        "confusion_matrix_fcn = torch.zeros(4,4, dtype = torch.int64)\n",
        "\n",
        "for i in range(test_size):\n",
        "    ground_truth = test_batch_label_fcn[i].int()\n",
        "    predicted_label = test_pred_label_fcn[i].int()\n",
        "    confusion_matrix_fcn[ground_truth,predicted_label] += 1\n",
        "\n",
        "sns.heatmap(confusion_matrix_fcn.numpy(),annot=True,fmt=\"d\")"
      ],
      "metadata": {
        "colab": {
          "base_uri": "https://localhost:8080/",
          "height": 283
        },
        "id": "Mk0YNJMfPaHu",
        "outputId": "7c4a308e-b4c6-4faf-8919-397a8be03f9a"
      },
      "execution_count": null,
      "outputs": [
        {
          "output_type": "execute_result",
          "data": {
            "text/plain": [
              "<matplotlib.axes._subplots.AxesSubplot at 0x7fbfb62814c0>"
            ]
          },
          "metadata": {},
          "execution_count": 90
        },
        {
          "output_type": "display_data",
          "data": {
            "text/plain": [
              "<Figure size 432x288 with 2 Axes>"
            ],
            "image/png": "[encoded data removed]"
          },
          "metadata": {
            "needs_background": "light"
          }
        }
      ]
    },
    {
      "cell_type": "code",
      "source": [
        "target_names = ['Cloudy', 'Rain', 'Shine', 'Sunrise']\n",
        "print(\"Accuracy score for Fully Connected Network: \\n\", accuracy_score(y_true = test_batch_label_fcn,  y_pred = test_pred_label_fcn))\n",
        "print(\"Precision score for Fully Connected Network: \\n\", precision_score(y_true = test_batch_label_fcn,  y_pred = test_pred_label_fcn, average='macro'))\n",
        "print(\"Recall score for Fully Connected Network: \\n\", recall_score(y_true = test_batch_label_fcn,  y_pred = test_pred_label_fcn, average='macro'))\n",
        "print(\"F1 score for Fully Connected Network: \\n\", f1_score(y_true = test_batch_label_fcn,  y_pred = test_pred_label_fcn, average='macro'))"
      ],
      "metadata": {
        "colab": {
          "base_uri": "https://localhost:8080/"
        },
        "id": "7XlunqHlP3lX",
        "outputId": "ca3da410-3bff-4e28-db81-ea6328b9e0b2"
      },
      "execution_count": null,
      "outputs": [
        {
          "output_type": "stream",
          "name": "stdout",
          "text": [
            "Accuracy score for Fully Connected Network: \n",
            " 0.8355555555555556\n",
            "Precision score for Fully Connected Network: \n",
            " 0.8186106889564336\n",
            "Recall score for Fully Connected Network: \n",
            " 0.8192910430105831\n",
            "F1 score for Fully Connected Network: \n",
            " 0.8187230702428271\n"
          ]
        }
      ]
    },
    {
      "cell_type": "markdown",
      "metadata": {
        "id": "fVgI--N4B7lR"
      },
      "source": [
        "## Training and evaluation of CNN [22 points]\n",
        "Similar to the FCN model, you will now train the CNN model that you defined before. Again you are free to try out different hyperparameters. This model also will classify weather images with the four classes provided by the dataset. As the optimizer, again, use the SGD implementation provided by PyTorch. You can implement the training loop in the following cell. \n",
        "\n",
        "Similar to the training procedure, you need to save the best model you obtain during training. Select an appropriate criterion (metric) to save the best model. If you wish, you can add a markdown cell to explain your reasoning."
      ]
    },
    {
      "cell_type": "markdown",
      "metadata": {
        "id": "mw1OF9Fl42Bc"
      },
      "source": [
        "### Training [12 points]"
      ]
    },
    {
      "cell_type": "code",
      "execution_count": null,
      "metadata": {
        "id": "gsEdzn4ON9fx",
        "colab": {
          "base_uri": "https://localhost:8080/"
        },
        "outputId": "fa03b4c4-6d57-4105-8823-d593ddab4f42"
      },
      "outputs": [
        {
          "output_type": "stream",
          "name": "stdout",
          "text": [
            "Epoch:  1 / 50\n"
          ]
        },
        {
          "output_type": "stream",
          "name": "stderr",
          "text": [
            "100%|██████████| 13/13 [00:29<00:00,  2.28s/it]\n"
          ]
        },
        {
          "output_type": "stream",
          "name": "stdout",
          "text": [
            "The training loss for the 1 th epoch is 0.9410919776329627\n",
            "The training accuracy for the 1 th epoch is 0.5532994923857868\n",
            "The validation loss for the 1 th epoch is 0.44614726305007935\n",
            "The validation accuracy for the 1 th epoch is 0.8482142857142857\n",
            "Epoch:  2 / 50\n"
          ]
        },
        {
          "output_type": "stream",
          "name": "stderr",
          "text": [
            "100%|██████████| 13/13 [00:29<00:00,  2.24s/it]\n"
          ]
        },
        {
          "output_type": "stream",
          "name": "stdout",
          "text": [
            "The training loss for the 2 th epoch is 0.8471851646900177\n",
            "The training accuracy for the 2 th epoch is 0.733502538071066\n",
            "The validation loss for the 2 th epoch is 0.7250977009534836\n",
            "The validation accuracy for the 2 th epoch is 0.7321428571428571\n",
            "Epoch:  3 / 50\n"
          ]
        },
        {
          "output_type": "stream",
          "name": "stderr",
          "text": [
            "100%|██████████| 13/13 [00:29<00:00,  2.24s/it]\n"
          ]
        },
        {
          "output_type": "stream",
          "name": "stdout",
          "text": [
            "The training loss for the 3 th epoch is 0.4453570017447838\n",
            "The training accuracy for the 3 th epoch is 0.8197969543147208\n",
            "The validation loss for the 3 th epoch is 0.3385719358921051\n",
            "The validation accuracy for the 3 th epoch is 0.8839285714285714\n",
            "Epoch:  4 / 50\n"
          ]
        },
        {
          "output_type": "stream",
          "name": "stderr",
          "text": [
            "100%|██████████| 13/13 [00:30<00:00,  2.32s/it]\n"
          ]
        },
        {
          "output_type": "stream",
          "name": "stdout",
          "text": [
            "The training loss for the 4 th epoch is 0.4623551494800128\n",
            "The training accuracy for the 4 th epoch is 0.8312182741116751\n",
            "The validation loss for the 4 th epoch is 0.3695211559534073\n",
            "The validation accuracy for the 4 th epoch is 0.9017857142857143\n",
            "Epoch:  5 / 50\n"
          ]
        },
        {
          "output_type": "stream",
          "name": "stderr",
          "text": [
            "100%|██████████| 13/13 [00:33<00:00,  2.57s/it]\n"
          ]
        },
        {
          "output_type": "stream",
          "name": "stdout",
          "text": [
            "The training loss for the 5 th epoch is 0.3002113883311932\n",
            "The training accuracy for the 5 th epoch is 0.8883248730964467\n",
            "The validation loss for the 5 th epoch is 0.27231477200984955\n",
            "The validation accuracy for the 5 th epoch is 0.9196428571428571\n",
            "Epoch:  6 / 50\n"
          ]
        },
        {
          "output_type": "stream",
          "name": "stderr",
          "text": [
            "100%|██████████| 13/13 [00:31<00:00,  2.44s/it]\n"
          ]
        },
        {
          "output_type": "stream",
          "name": "stdout",
          "text": [
            "The training loss for the 6 th epoch is 0.22464543007887328\n",
            "The training accuracy for the 6 th epoch is 0.9213197969543148\n",
            "The validation loss for the 6 th epoch is 0.2473442405462265\n",
            "The validation accuracy for the 6 th epoch is 0.9196428571428571\n",
            "Epoch:  7 / 50\n"
          ]
        },
        {
          "output_type": "stream",
          "name": "stderr",
          "text": [
            "100%|██████████| 13/13 [00:28<00:00,  2.22s/it]\n"
          ]
        },
        {
          "output_type": "stream",
          "name": "stdout",
          "text": [
            "The training loss for the 7 th epoch is 0.3091740424816425\n",
            "The training accuracy for the 7 th epoch is 0.881979695431472\n",
            "The validation loss for the 7 th epoch is 0.5666787624359131\n",
            "The validation accuracy for the 7 th epoch is 0.8214285714285714\n",
            "Epoch:  8 / 50\n"
          ]
        },
        {
          "output_type": "stream",
          "name": "stderr",
          "text": [
            "100%|██████████| 13/13 [00:29<00:00,  2.25s/it]\n"
          ]
        },
        {
          "output_type": "stream",
          "name": "stdout",
          "text": [
            "The training loss for the 8 th epoch is 0.20655663712666586\n",
            "The training accuracy for the 8 th epoch is 0.9225888324873096\n",
            "The validation loss for the 8 th epoch is 0.26696402952075005\n",
            "The validation accuracy for the 8 th epoch is 0.9107142857142857\n",
            "Epoch:  9 / 50\n"
          ]
        },
        {
          "output_type": "stream",
          "name": "stderr",
          "text": [
            "100%|██████████| 13/13 [00:29<00:00,  2.27s/it]\n"
          ]
        },
        {
          "output_type": "stream",
          "name": "stdout",
          "text": [
            "The training loss for the 9 th epoch is 0.15048585545558196\n",
            "The training accuracy for the 9 th epoch is 0.9581218274111675\n",
            "The validation loss for the 9 th epoch is 0.45799706876277924\n",
            "The validation accuracy for the 9 th epoch is 0.8660714285714286\n",
            "Epoch:  10 / 50\n"
          ]
        },
        {
          "output_type": "stream",
          "name": "stderr",
          "text": [
            "100%|██████████| 13/13 [00:30<00:00,  2.33s/it]\n"
          ]
        },
        {
          "output_type": "stream",
          "name": "stdout",
          "text": [
            "The training loss for the 10 th epoch is 0.24682431954603928\n",
            "The training accuracy for the 10 th epoch is 0.9060913705583756\n",
            "The validation loss for the 10 th epoch is 0.2875553146004677\n",
            "The validation accuracy for the 10 th epoch is 0.9107142857142857\n",
            "Epoch:  11 / 50\n"
          ]
        },
        {
          "output_type": "stream",
          "name": "stderr",
          "text": [
            "100%|██████████| 13/13 [00:29<00:00,  2.26s/it]\n"
          ]
        },
        {
          "output_type": "stream",
          "name": "stdout",
          "text": [
            "The training loss for the 11 th epoch is 0.1600617250570884\n",
            "The training accuracy for the 11 th epoch is 0.9416243654822335\n",
            "The validation loss for the 11 th epoch is 0.2847493290901184\n",
            "The validation accuracy for the 11 th epoch is 0.9107142857142857\n",
            "Epoch:  12 / 50\n"
          ]
        },
        {
          "output_type": "stream",
          "name": "stderr",
          "text": [
            "100%|██████████| 13/13 [00:29<00:00,  2.24s/it]\n"
          ]
        },
        {
          "output_type": "stream",
          "name": "stdout",
          "text": [
            "The training loss for the 12 th epoch is 0.14013396833951658\n",
            "The training accuracy for the 12 th epoch is 0.9517766497461929\n",
            "The validation loss for the 12 th epoch is 0.31966690719127655\n",
            "The validation accuracy for the 12 th epoch is 0.8928571428571429\n",
            "Epoch:  13 / 50\n"
          ]
        },
        {
          "output_type": "stream",
          "name": "stderr",
          "text": [
            "100%|██████████| 13/13 [00:29<00:00,  2.27s/it]\n"
          ]
        },
        {
          "output_type": "stream",
          "name": "stdout",
          "text": [
            "The training loss for the 13 th epoch is 0.10704081276288399\n",
            "The training accuracy for the 13 th epoch is 0.9619289340101523\n",
            "The validation loss for the 13 th epoch is 0.23747381567955017\n",
            "The validation accuracy for the 13 th epoch is 0.9285714285714286\n",
            "Epoch:  14 / 50\n"
          ]
        },
        {
          "output_type": "stream",
          "name": "stderr",
          "text": [
            "100%|██████████| 13/13 [00:29<00:00,  2.26s/it]\n"
          ]
        },
        {
          "output_type": "stream",
          "name": "stdout",
          "text": [
            "The training loss for the 14 th epoch is 0.09324366986178435\n",
            "The training accuracy for the 14 th epoch is 0.9657360406091371\n",
            "The validation loss for the 14 th epoch is 0.24642784148454666\n",
            "The validation accuracy for the 14 th epoch is 0.9196428571428571\n",
            "Epoch:  15 / 50\n"
          ]
        },
        {
          "output_type": "stream",
          "name": "stderr",
          "text": [
            "100%|██████████| 13/13 [00:29<00:00,  2.27s/it]\n"
          ]
        },
        {
          "output_type": "stream",
          "name": "stdout",
          "text": [
            "The training loss for the 15 th epoch is 0.08299650939611289\n",
            "The training accuracy for the 15 th epoch is 0.9657360406091371\n",
            "The validation loss for the 15 th epoch is 0.2531144544482231\n",
            "The validation accuracy for the 15 th epoch is 0.9107142857142857\n",
            "Epoch:  16 / 50\n"
          ]
        },
        {
          "output_type": "stream",
          "name": "stderr",
          "text": [
            "100%|██████████| 13/13 [00:29<00:00,  2.25s/it]\n"
          ]
        },
        {
          "output_type": "stream",
          "name": "stdout",
          "text": [
            "The training loss for the 16 th epoch is 0.08329558988603261\n",
            "The training accuracy for the 16 th epoch is 0.9733502538071066\n",
            "The validation loss for the 16 th epoch is 0.28599655628204346\n",
            "The validation accuracy for the 16 th epoch is 0.8839285714285714\n",
            "Epoch:  17 / 50\n"
          ]
        },
        {
          "output_type": "stream",
          "name": "stderr",
          "text": [
            "100%|██████████| 13/13 [00:30<00:00,  2.32s/it]\n"
          ]
        },
        {
          "output_type": "stream",
          "name": "stdout",
          "text": [
            "The training loss for the 17 th epoch is 0.05571008781687571\n",
            "The training accuracy for the 17 th epoch is 0.9847715736040609\n",
            "The validation loss for the 17 th epoch is 0.35897619277238846\n",
            "The validation accuracy for the 17 th epoch is 0.8928571428571429\n",
            "Epoch:  18 / 50\n"
          ]
        },
        {
          "output_type": "stream",
          "name": "stderr",
          "text": [
            "100%|██████████| 13/13 [00:29<00:00,  2.26s/it]\n"
          ]
        },
        {
          "output_type": "stream",
          "name": "stdout",
          "text": [
            "The training loss for the 18 th epoch is 0.040564401934926324\n",
            "The training accuracy for the 18 th epoch is 0.9885786802030457\n",
            "The validation loss for the 18 th epoch is 0.31736891716718674\n",
            "The validation accuracy for the 18 th epoch is 0.8928571428571429\n",
            "Epoch:  19 / 50\n"
          ]
        },
        {
          "output_type": "stream",
          "name": "stderr",
          "text": [
            "100%|██████████| 13/13 [00:29<00:00,  2.24s/it]\n"
          ]
        },
        {
          "output_type": "stream",
          "name": "stdout",
          "text": [
            "The training loss for the 19 th epoch is 0.02932067899606549\n",
            "The training accuracy for the 19 th epoch is 0.9847715736040609\n",
            "The validation loss for the 19 th epoch is 0.28154246881604195\n",
            "The validation accuracy for the 19 th epoch is 0.9464285714285714\n",
            "Epoch:  20 / 50\n"
          ]
        },
        {
          "output_type": "stream",
          "name": "stderr",
          "text": [
            "100%|██████████| 13/13 [00:29<00:00,  2.25s/it]\n"
          ]
        },
        {
          "output_type": "stream",
          "name": "stdout",
          "text": [
            "The training loss for the 20 th epoch is 0.016116430159085073\n",
            "The training accuracy for the 20 th epoch is 0.9936548223350253\n",
            "The validation loss for the 20 th epoch is 0.2100098952651024\n",
            "The validation accuracy for the 20 th epoch is 0.9375\n",
            "Epoch:  21 / 50\n"
          ]
        },
        {
          "output_type": "stream",
          "name": "stderr",
          "text": [
            "100%|██████████| 13/13 [00:28<00:00,  2.23s/it]\n"
          ]
        },
        {
          "output_type": "stream",
          "name": "stdout",
          "text": [
            "The training loss for the 21 th epoch is 0.06150535957959409\n",
            "The training accuracy for the 21 th epoch is 0.983502538071066\n",
            "The validation loss for the 21 th epoch is 0.1713857538998127\n",
            "The validation accuracy for the 21 th epoch is 0.9375\n",
            "Epoch:  22 / 50\n"
          ]
        },
        {
          "output_type": "stream",
          "name": "stderr",
          "text": [
            "100%|██████████| 13/13 [00:29<00:00,  2.24s/it]\n"
          ]
        },
        {
          "output_type": "stream",
          "name": "stdout",
          "text": [
            "The training loss for the 22 th epoch is 0.03304871193204935\n",
            "The training accuracy for the 22 th epoch is 0.9885786802030457\n",
            "The validation loss for the 22 th epoch is 0.11550641246140003\n",
            "The validation accuracy for the 22 th epoch is 0.9642857142857143\n",
            "Epoch:  23 / 50\n"
          ]
        },
        {
          "output_type": "stream",
          "name": "stderr",
          "text": [
            "100%|██████████| 13/13 [00:30<00:00,  2.32s/it]\n"
          ]
        },
        {
          "output_type": "stream",
          "name": "stdout",
          "text": [
            "The training loss for the 23 th epoch is 0.043966062080401644\n",
            "The training accuracy for the 23 th epoch is 0.9860406091370558\n",
            "The validation loss for the 23 th epoch is 0.32058437168598175\n",
            "The validation accuracy for the 23 th epoch is 0.9196428571428571\n",
            "Epoch:  24 / 50\n"
          ]
        },
        {
          "output_type": "stream",
          "name": "stderr",
          "text": [
            "100%|██████████| 13/13 [00:29<00:00,  2.23s/it]\n"
          ]
        },
        {
          "output_type": "stream",
          "name": "stdout",
          "text": [
            "The training loss for the 24 th epoch is 0.1373883362572927\n",
            "The training accuracy for the 24 th epoch is 0.9555837563451777\n",
            "The validation loss for the 24 th epoch is 0.29133255779743195\n",
            "The validation accuracy for the 24 th epoch is 0.9107142857142857\n",
            "Epoch:  25 / 50\n"
          ]
        },
        {
          "output_type": "stream",
          "name": "stderr",
          "text": [
            "100%|██████████| 13/13 [00:28<00:00,  2.21s/it]\n"
          ]
        },
        {
          "output_type": "stream",
          "name": "stdout",
          "text": [
            "The training loss for the 25 th epoch is 0.0523130467806298\n",
            "The training accuracy for the 25 th epoch is 0.9873096446700508\n",
            "The validation loss for the 25 th epoch is 0.6875376999378204\n",
            "The validation accuracy for the 25 th epoch is 0.8214285714285714\n",
            "Epoch:  26 / 50\n"
          ]
        },
        {
          "output_type": "stream",
          "name": "stderr",
          "text": [
            "100%|██████████| 13/13 [00:28<00:00,  2.23s/it]\n"
          ]
        },
        {
          "output_type": "stream",
          "name": "stdout",
          "text": [
            "The training loss for the 26 th epoch is 0.07104355161293195\n",
            "The training accuracy for the 26 th epoch is 0.983502538071066\n",
            "The validation loss for the 26 th epoch is 0.235677570104599\n",
            "The validation accuracy for the 26 th epoch is 0.9285714285714286\n",
            "Epoch:  27 / 50\n"
          ]
        },
        {
          "output_type": "stream",
          "name": "stderr",
          "text": [
            "100%|██████████| 13/13 [00:28<00:00,  2.22s/it]\n"
          ]
        },
        {
          "output_type": "stream",
          "name": "stdout",
          "text": [
            "The training loss for the 27 th epoch is 0.021508739081372578\n",
            "The training accuracy for the 27 th epoch is 0.9936548223350253\n",
            "The validation loss for the 27 th epoch is 0.3537941575050354\n",
            "The validation accuracy for the 27 th epoch is 0.9017857142857143\n",
            "Epoch:  28 / 50\n"
          ]
        },
        {
          "output_type": "stream",
          "name": "stderr",
          "text": [
            "100%|██████████| 13/13 [00:29<00:00,  2.26s/it]\n"
          ]
        },
        {
          "output_type": "stream",
          "name": "stdout",
          "text": [
            "The training loss for the 28 th epoch is 0.02961560867082041\n",
            "The training accuracy for the 28 th epoch is 0.9885786802030457\n",
            "The validation loss for the 28 th epoch is 0.1991834156215191\n",
            "The validation accuracy for the 28 th epoch is 0.9464285714285714\n",
            "Epoch:  29 / 50\n"
          ]
        },
        {
          "output_type": "stream",
          "name": "stderr",
          "text": [
            "100%|██████████| 13/13 [00:30<00:00,  2.31s/it]\n"
          ]
        },
        {
          "output_type": "stream",
          "name": "stdout",
          "text": [
            "The training loss for the 29 th epoch is 0.007227688606900091\n",
            "The training accuracy for the 29 th epoch is 1.0\n",
            "The validation loss for the 29 th epoch is 0.14310889318585396\n",
            "The validation accuracy for the 29 th epoch is 0.9732142857142857\n",
            "Epoch:  30 / 50\n"
          ]
        },
        {
          "output_type": "stream",
          "name": "stderr",
          "text": [
            "100%|██████████| 13/13 [00:29<00:00,  2.24s/it]\n"
          ]
        },
        {
          "output_type": "stream",
          "name": "stdout",
          "text": [
            "The training loss for the 30 th epoch is 0.002638692698942927\n",
            "The training accuracy for the 30 th epoch is 1.0\n",
            "The validation loss for the 30 th epoch is 0.18716979026794434\n",
            "The validation accuracy for the 30 th epoch is 0.9464285714285714\n",
            "Epoch:  31 / 50\n"
          ]
        },
        {
          "output_type": "stream",
          "name": "stderr",
          "text": [
            "100%|██████████| 13/13 [00:29<00:00,  2.23s/it]\n"
          ]
        },
        {
          "output_type": "stream",
          "name": "stdout",
          "text": [
            "The training loss for the 31 th epoch is 0.0033151697582350327\n",
            "The training accuracy for the 31 th epoch is 1.0\n",
            "The validation loss for the 31 th epoch is 0.17854646779596806\n",
            "The validation accuracy for the 31 th epoch is 0.9732142857142857\n",
            "Epoch:  32 / 50\n"
          ]
        },
        {
          "output_type": "stream",
          "name": "stderr",
          "text": [
            "100%|██████████| 13/13 [00:29<00:00,  2.25s/it]\n"
          ]
        },
        {
          "output_type": "stream",
          "name": "stdout",
          "text": [
            "The training loss for the 32 th epoch is 0.01310623640445276\n",
            "The training accuracy for the 32 th epoch is 0.9961928934010152\n",
            "The validation loss for the 32 th epoch is 0.18828540947288275\n",
            "The validation accuracy for the 32 th epoch is 0.9553571428571429\n",
            "Epoch:  33 / 50\n"
          ]
        },
        {
          "output_type": "stream",
          "name": "stderr",
          "text": [
            "100%|██████████| 13/13 [00:28<00:00,  2.22s/it]\n"
          ]
        },
        {
          "output_type": "stream",
          "name": "stdout",
          "text": [
            "The training loss for the 33 th epoch is 0.0065057755888959104\n",
            "The training accuracy for the 33 th epoch is 0.998730964467005\n",
            "The validation loss for the 33 th epoch is 0.2101457342505455\n",
            "The validation accuracy for the 33 th epoch is 0.9553571428571429\n",
            "Epoch:  34 / 50\n"
          ]
        },
        {
          "output_type": "stream",
          "name": "stderr",
          "text": [
            "100%|██████████| 13/13 [00:29<00:00,  2.24s/it]\n"
          ]
        },
        {
          "output_type": "stream",
          "name": "stdout",
          "text": [
            "The training loss for the 34 th epoch is 0.07136965736460227\n",
            "The training accuracy for the 34 th epoch is 0.9746192893401016\n",
            "The validation loss for the 34 th epoch is 0.3300693929195404\n",
            "The validation accuracy for the 34 th epoch is 0.9464285714285714\n",
            "Epoch:  35 / 50\n"
          ]
        },
        {
          "output_type": "stream",
          "name": "stderr",
          "text": [
            "100%|██████████| 13/13 [00:30<00:00,  2.31s/it]\n"
          ]
        },
        {
          "output_type": "stream",
          "name": "stdout",
          "text": [
            "The training loss for the 35 th epoch is 0.012976315051603775\n",
            "The training accuracy for the 35 th epoch is 0.9949238578680203\n",
            "The validation loss for the 35 th epoch is 0.2227282002568245\n",
            "The validation accuracy for the 35 th epoch is 0.9464285714285714\n",
            "Epoch:  36 / 50\n"
          ]
        },
        {
          "output_type": "stream",
          "name": "stderr",
          "text": [
            "100%|██████████| 13/13 [00:29<00:00,  2.24s/it]\n"
          ]
        },
        {
          "output_type": "stream",
          "name": "stdout",
          "text": [
            "The training loss for the 36 th epoch is 0.008268589230003552\n",
            "The training accuracy for the 36 th epoch is 0.998730964467005\n",
            "The validation loss for the 36 th epoch is 0.24807188659906387\n",
            "The validation accuracy for the 36 th epoch is 0.9285714285714286\n",
            "Epoch:  37 / 50\n"
          ]
        },
        {
          "output_type": "stream",
          "name": "stderr",
          "text": [
            "100%|██████████| 13/13 [00:29<00:00,  2.24s/it]\n"
          ]
        },
        {
          "output_type": "stream",
          "name": "stdout",
          "text": [
            "The training loss for the 37 th epoch is 0.0267392832499284\n",
            "The training accuracy for the 37 th epoch is 0.9936548223350253\n",
            "The validation loss for the 37 th epoch is 0.15578112192451954\n",
            "The validation accuracy for the 37 th epoch is 0.9553571428571429\n",
            "Epoch:  38 / 50\n"
          ]
        },
        {
          "output_type": "stream",
          "name": "stderr",
          "text": [
            "100%|██████████| 13/13 [00:29<00:00,  2.24s/it]\n"
          ]
        },
        {
          "output_type": "stream",
          "name": "stdout",
          "text": [
            "The training loss for the 38 th epoch is 0.0041521933431235645\n",
            "The training accuracy for the 38 th epoch is 0.998730964467005\n",
            "The validation loss for the 38 th epoch is 0.20702979154884815\n",
            "The validation accuracy for the 38 th epoch is 0.9464285714285714\n",
            "Epoch:  39 / 50\n"
          ]
        },
        {
          "output_type": "stream",
          "name": "stderr",
          "text": [
            "100%|██████████| 13/13 [00:28<00:00,  2.22s/it]\n"
          ]
        },
        {
          "output_type": "stream",
          "name": "stdout",
          "text": [
            "The training loss for the 39 th epoch is 0.03017136041979449\n",
            "The training accuracy for the 39 th epoch is 0.9911167512690355\n",
            "The validation loss for the 39 th epoch is 0.24535474926233292\n",
            "The validation accuracy for the 39 th epoch is 0.9196428571428571\n",
            "Epoch:  40 / 50\n"
          ]
        },
        {
          "output_type": "stream",
          "name": "stderr",
          "text": [
            "100%|██████████| 13/13 [00:28<00:00,  2.22s/it]\n"
          ]
        },
        {
          "output_type": "stream",
          "name": "stdout",
          "text": [
            "The training loss for the 40 th epoch is 0.002785850130469323\n",
            "The training accuracy for the 40 th epoch is 1.0\n",
            "The validation loss for the 40 th epoch is 0.19718907959759235\n",
            "The validation accuracy for the 40 th epoch is 0.9642857142857143\n",
            "Epoch:  41 / 50\n"
          ]
        },
        {
          "output_type": "stream",
          "name": "stderr",
          "text": [
            "100%|██████████| 13/13 [00:29<00:00,  2.29s/it]\n"
          ]
        },
        {
          "output_type": "stream",
          "name": "stdout",
          "text": [
            "The training loss for the 41 th epoch is 0.001084383315173909\n",
            "The training accuracy for the 41 th epoch is 1.0\n",
            "The validation loss for the 41 th epoch is 0.18852250277996063\n",
            "The validation accuracy for the 41 th epoch is 0.9732142857142857\n",
            "Epoch:  42 / 50\n"
          ]
        },
        {
          "output_type": "stream",
          "name": "stderr",
          "text": [
            "100%|██████████| 13/13 [00:28<00:00,  2.22s/it]\n"
          ]
        },
        {
          "output_type": "stream",
          "name": "stdout",
          "text": [
            "The training loss for the 42 th epoch is 0.0018175946226200233\n",
            "The training accuracy for the 42 th epoch is 1.0\n",
            "The validation loss for the 42 th epoch is 0.2580152116715908\n",
            "The validation accuracy for the 42 th epoch is 0.9464285714285714\n",
            "Epoch:  43 / 50\n"
          ]
        },
        {
          "output_type": "stream",
          "name": "stderr",
          "text": [
            "100%|██████████| 13/13 [00:28<00:00,  2.22s/it]\n"
          ]
        },
        {
          "output_type": "stream",
          "name": "stdout",
          "text": [
            "The training loss for the 43 th epoch is 0.0007606128391881401\n",
            "The training accuracy for the 43 th epoch is 1.0\n",
            "The validation loss for the 43 th epoch is 0.23459438979625702\n",
            "The validation accuracy for the 43 th epoch is 0.9642857142857143\n",
            "Epoch:  44 / 50\n"
          ]
        },
        {
          "output_type": "stream",
          "name": "stderr",
          "text": [
            "100%|██████████| 13/13 [00:28<00:00,  2.22s/it]\n"
          ]
        },
        {
          "output_type": "stream",
          "name": "stdout",
          "text": [
            "The training loss for the 44 th epoch is 0.0005027101433370262\n",
            "The training accuracy for the 44 th epoch is 1.0\n",
            "The validation loss for the 44 th epoch is 0.19672909379005432\n",
            "The validation accuracy for the 44 th epoch is 0.9464285714285714\n",
            "Epoch:  45 / 50\n"
          ]
        },
        {
          "output_type": "stream",
          "name": "stderr",
          "text": [
            "100%|██████████| 13/13 [00:28<00:00,  2.22s/it]\n"
          ]
        },
        {
          "output_type": "stream",
          "name": "stdout",
          "text": [
            "The training loss for the 45 th epoch is 0.022684600244526967\n",
            "The training accuracy for the 45 th epoch is 0.9961928934010152\n",
            "The validation loss for the 45 th epoch is 1.0254840850830078\n",
            "The validation accuracy for the 45 th epoch is 0.7946428571428571\n",
            "Epoch:  46 / 50\n"
          ]
        },
        {
          "output_type": "stream",
          "name": "stderr",
          "text": [
            "100%|██████████| 13/13 [00:28<00:00,  2.23s/it]\n"
          ]
        },
        {
          "output_type": "stream",
          "name": "stdout",
          "text": [
            "The training loss for the 46 th epoch is 0.16376853687688708\n",
            "The training accuracy for the 46 th epoch is 0.9644670050761421\n",
            "The validation loss for the 46 th epoch is 0.4482535719871521\n",
            "The validation accuracy for the 46 th epoch is 0.9107142857142857\n",
            "Epoch:  47 / 50\n"
          ]
        },
        {
          "output_type": "stream",
          "name": "stderr",
          "text": [
            "100%|██████████| 13/13 [00:29<00:00,  2.30s/it]\n"
          ]
        },
        {
          "output_type": "stream",
          "name": "stdout",
          "text": [
            "The training loss for the 47 th epoch is 0.09901479123016962\n",
            "The training accuracy for the 47 th epoch is 0.9708121827411168\n",
            "The validation loss for the 47 th epoch is 0.1870253011584282\n",
            "The validation accuracy for the 47 th epoch is 0.9464285714285714\n",
            "Epoch:  48 / 50\n"
          ]
        },
        {
          "output_type": "stream",
          "name": "stderr",
          "text": [
            "100%|██████████| 13/13 [00:28<00:00,  2.22s/it]\n"
          ]
        },
        {
          "output_type": "stream",
          "name": "stdout",
          "text": [
            "The training loss for the 48 th epoch is 0.008275346239455618\n",
            "The training accuracy for the 48 th epoch is 0.998730964467005\n",
            "The validation loss for the 48 th epoch is 0.2115936502814293\n",
            "The validation accuracy for the 48 th epoch is 0.9464285714285714\n",
            "Epoch:  49 / 50\n"
          ]
        },
        {
          "output_type": "stream",
          "name": "stderr",
          "text": [
            "100%|██████████| 13/13 [00:28<00:00,  2.21s/it]\n"
          ]
        },
        {
          "output_type": "stream",
          "name": "stdout",
          "text": [
            "The training loss for the 49 th epoch is 0.0030424468792401827\n",
            "The training accuracy for the 49 th epoch is 1.0\n",
            "The validation loss for the 49 th epoch is 0.14383249916136265\n",
            "The validation accuracy for the 49 th epoch is 0.9732142857142857\n",
            "Epoch:  50 / 50\n"
          ]
        },
        {
          "output_type": "stream",
          "name": "stderr",
          "text": [
            "100%|██████████| 13/13 [00:28<00:00,  2.21s/it]\n"
          ]
        },
        {
          "output_type": "stream",
          "name": "stdout",
          "text": [
            "The training loss for the 50 th epoch is 0.0015466034081048118\n",
            "The training accuracy for the 50 th epoch is 1.0\n",
            "The validation loss for the 50 th epoch is 0.14194484427571297\n",
            "The validation accuracy for the 50 th epoch is 0.9732142857142857\n"
          ]
        }
      ],
      "source": [
        "#HINT: note that your training time should not take many days.\n",
        "\n",
        "#TODO:\n",
        "#The optimal hyperparameters are the given ones among what I tried before, except for the number of epochs.\n",
        "max_epoch = 50\n",
        "train_batch = 64\n",
        "test_batch = 64\n",
        "learning_rate = 5e-2\n",
        "momentum = 0.5\n",
        "weight_decay = 5e-04\n",
        "\n",
        "# TODO: training loop + eval\n",
        "model_cnn = ConvNet()\n",
        "#Cross-Entropy Loss is used for classification problems and it is the criterion to detect the optimal hyperparameters\n",
        "cross_entropy = nn.CrossEntropyLoss()\n",
        "#Implement SGD and get the learnable parameters of the model\n",
        "optimizer = torch.optim.SGD(model_cnn.parameters(), lr=learning_rate, momentum=momentum, weight_decay=weight_decay)\n",
        "\n",
        "train_epoch_acc_cnn, train_epoch_loss_cnn, val_epoch_acc_cnn, val_epoch_loss_cnn = train_model(model_cnn, cross_entropy, optimizer, max_epoch)"
      ]
    },
    {
      "cell_type": "markdown",
      "metadata": {
        "id": "vOiPy1hI44gy"
      },
      "source": [
        "### Learning Process Analysis [3 points]\n",
        "Repeating the same procedure you applied for the FCN model; you will provide two plots about how your training proceeds over epochs. Again, provide two plots: one summarizes the loss values, and the other summarizes the accuracy values. Note that each plot needs to include two curves, one for the validation set and the other for the training set."
      ]
    },
    {
      "cell_type": "code",
      "execution_count": null,
      "metadata": {
        "id": "lFwAi_zPelX6",
        "colab": {
          "base_uri": "https://localhost:8080/",
          "height": 573
        },
        "outputId": "01f1d063-c98c-4235-d933-4d921043da36"
      },
      "outputs": [
        {
          "output_type": "display_data",
          "data": {
            "text/plain": [
              "<Figure size 432x288 with 1 Axes>"
            ],
            "image/png": "[encoded data removed]"
          },
          "metadata": {
            "needs_background": "light"
          }
        },
        {
          "output_type": "display_data",
          "data": {
            "text/plain": [
              "<Figure size 432x288 with 1 Axes>"
            ],
            "image/png": "[encoded data removed]"
          },
          "metadata": {
            "needs_background": "light"
          }
        }
      ],
      "source": [
        "# TODO: Implement your plots here, you can use matplotlib library to do so.\n",
        "\n",
        "plot_graph(max_epoch, train_epoch_acc_cnn, val_epoch_acc_cnn, train_epoch_loss_cnn, val_epoch_loss_cnn)"
      ]
    },
    {
      "cell_type": "markdown",
      "metadata": {
        "id": "2Ccx_9g54-GS"
      },
      "source": [
        "### Test [4 points]\n",
        "Concluding your analysis, report the confusion matrix for the best model you obtained during your CNN model training. Then using this confusion matrix, report accuracy, recall, precision, and $F_1$ score for your best model. Use macro averaging in all of your metrics."
      ]
    },
    {
      "cell_type": "code",
      "execution_count": null,
      "metadata": {
        "id": "t7USNWHYemYo",
        "colab": {
          "base_uri": "https://localhost:8080/"
        },
        "outputId": "e86b62f8-8e3c-4b27-af2b-b522309d8004"
      },
      "outputs": [
        {
          "output_type": "stream",
          "name": "stdout",
          "text": [
            "The test accuracy is 0.9244444444444444\n"
          ]
        }
      ],
      "source": [
        "# TODO: Implement your evaluation script here, provide the confusion matrix and the requested metrics\n",
        "#Test Data\n",
        "accurate_avg_cnn, test_pred_label_cnn, test_batch_label_cnn = test_model(model_cnn, cross_entropy, optimizer, max_epoch)"
      ]
    },
    {
      "cell_type": "code",
      "source": [
        "confusion_matrix_cnn = torch.zeros(4,4, dtype = torch.int64)\n",
        "\n",
        "for i in range(test_size):\n",
        "    ground_truth = test_batch_label_cnn[i].int()\n",
        "    predicted_label = test_pred_label_cnn[i].int()\n",
        "    confusion_matrix_cnn[ground_truth,predicted_label] += 1\n",
        "\n",
        "sns.heatmap(confusion_matrix_cnn.numpy(),annot=True,fmt=\"d\")"
      ],
      "metadata": {
        "colab": {
          "base_uri": "https://localhost:8080/",
          "height": 283
        },
        "id": "quWw_ShO8JRT",
        "outputId": "8cdec4a8-8f1c-4945-dfef-4184f87f05c4"
      },
      "execution_count": null,
      "outputs": [
        {
          "output_type": "execute_result",
          "data": {
            "text/plain": [
              "<matplotlib.axes._subplots.AxesSubplot at 0x7fbfb8ca3130>"
            ]
          },
          "metadata": {},
          "execution_count": 99
        },
        {
          "output_type": "display_data",
          "data": {
            "text/plain": [
              "<Figure size 432x288 with 2 Axes>"
            ],
            "image/png": "[encoded data removed]"
          },
          "metadata": {
            "needs_background": "light"
          }
        }
      ]
    },
    {
      "cell_type": "code",
      "source": [
        "target_names = ['Cloudy', 'Rain', 'Shine', 'Sunrise']\n",
        "print(\"Accuracy score for Fully Connected Network: \\n\", accuracy_score(y_true = test_batch_label_cnn,  y_pred = test_pred_label_cnn))\n",
        "print(\"Precision score for Fully Connected Network: \\n\", precision_score(y_true = test_batch_label_cnn,  y_pred = test_pred_label_cnn, average='macro'))\n",
        "print(\"Recall score for Fully Connected Network: \\n\", recall_score(y_true = test_batch_label_cnn,  y_pred = test_pred_label_cnn, average='macro'))\n",
        "print(\"F1 score for Fully Connected Network: \\n\", f1_score(y_true = test_batch_label_cnn,  y_pred = test_pred_label_cnn, average='macro'))"
      ],
      "metadata": {
        "colab": {
          "base_uri": "https://localhost:8080/"
        },
        "id": "_wD5wB1o8YZ5",
        "outputId": "8c287c97-81e9-4695-d7e1-f6cd4fe751a3"
      },
      "execution_count": null,
      "outputs": [
        {
          "output_type": "stream",
          "name": "stdout",
          "text": [
            "Accuracy score for Fully Connected Network: \n",
            " 0.9244444444444444\n",
            "Precision score for Fully Connected Network: \n",
            " 0.9212136663331537\n",
            "Recall score for Fully Connected Network: \n",
            " 0.9178849581250098\n",
            "F1 score for Fully Connected Network: \n",
            " 0.9190871886757963\n"
          ]
        }
      ]
    },
    {
      "cell_type": "markdown",
      "metadata": {
        "id": "vPK3UZ9besKr"
      },
      "source": [
        "### Discussion [3 points]\n",
        "Now, try to compare the two models that you trained. How different are these two models regarding the number of parameters used?\n",
        "\n",
        "Explain your findings by connecting them with your experimental results. You can include your comments on a separate Markdown cell or below the question statement."
      ]
    },
    {
      "cell_type": "markdown",
      "source": [
        "**Answer:** According to the results, CNN is a better model for this image classification \n",
        "problem. The difference between these models are, FCN processes flattened images while CNN works with multi-dimensional inputs and filter them using its parameter kernel_size, and it flattens the image later. FCN might lose some useful information at the beginning, and this is why CNN works better. \n",
        "\n",
        "\n",
        "\n"
      ],
      "metadata": {
        "id": "NoujxhK2QSZq"
      }
    },
    {
      "cell_type": "markdown",
      "metadata": {
        "id": "RaSufbDNrt_H"
      },
      "source": [
        "## Transfer Learning [22 points]\n",
        "\n",
        "As the last part of this assignment, you will practice transfer learning. In this methodology, we aim to use models trained on large-scale datasets for our task. As we do not have access to large datasets and computational resources all the time, we sometimes try to use already trained models (on other datasets) as a good starting point for our model, and then fine-tune the weights considering our task.  \n",
        "\n",
        "Torchvision library provides numerous models pretrained for specific tasks. [Here](https://pytorch.org/vision/stable/models.html), you can find a list of pretrained models. For this part, you will include [ResNet](https://arxiv.org/abs/1512.03385)-18 model, pretrained with ImageNet dataset. ImageNet is a large dataset where training from scratch would take a long time. You will fine-tune this pretrained module for your task. \n",
        "<br>\n",
        "**Hint:** You can add a Linear layer to adapt the model to the number of classes needed for your task. You can access the number of inputs to the ResNet-18 model as $\\texttt{model.fc.in_features}$ and then modify the fully connected layer of the model $\\texttt{model.fc}$.\n",
        "<br>\n",
        "\n",
        "Using the ResNet-18 backbone, implement this model's training loop (by adapting it to your task). You can implement the training procedure in the cell provided below. Again save your model based on a criterion indicating the best model. Explain the reasoning for your criteria. Use the SGD optimizer provided by PyTorch to optimize your model.\n",
        "\n",
        "Just like the previous parts, you can also tune your hyperparameters to optimize your model's performance. "
      ]
    },
    {
      "cell_type": "markdown",
      "metadata": {
        "id": "s1O0rHumXDob"
      },
      "source": [
        "###Training [12 points]"
      ]
    },
    {
      "cell_type": "code",
      "execution_count": null,
      "metadata": {
        "colab": {
          "base_uri": "https://localhost:8080/"
        },
        "outputId": "3ce5e78c-8ae6-4645-d5ed-faa3faa7c075",
        "id": "t7ui4vLeOXNw"
      },
      "outputs": [
        {
          "output_type": "stream",
          "name": "stderr",
          "text": [
            "/usr/local/lib/python3.8/dist-packages/torchvision/models/_utils.py:208: UserWarning: The parameter 'pretrained' is deprecated since 0.13 and may be removed in the future, please use 'weights' instead.\n",
            "  warnings.warn(\n",
            "/usr/local/lib/python3.8/dist-packages/torchvision/models/_utils.py:223: UserWarning: Arguments other than a weight enum or `None` for 'weights' are deprecated since 0.13 and may be removed in the future. The current behavior is equivalent to passing `weights=ResNet18_Weights.IMAGENET1K_V1`. You can also use `weights=ResNet18_Weights.DEFAULT` to get the most up-to-date weights.\n",
            "  warnings.warn(msg)\n"
          ]
        },
        {
          "output_type": "stream",
          "name": "stdout",
          "text": [
            "Epoch:  1 / 10\n"
          ]
        },
        {
          "output_type": "stream",
          "name": "stderr",
          "text": [
            "100%|██████████| 13/13 [01:01<00:00,  4.73s/it]\n"
          ]
        },
        {
          "output_type": "stream",
          "name": "stdout",
          "text": [
            "The training loss for the 1 th epoch is 5.948519174869244\n",
            "The training accuracy for the 1 th epoch is 0.39213197969543145\n",
            "The validation loss for the 1 th epoch is 1.2068668007850647\n",
            "The validation accuracy for the 1 th epoch is 0.8125\n",
            "Epoch:  2 / 10\n"
          ]
        },
        {
          "output_type": "stream",
          "name": "stderr",
          "text": [
            "100%|██████████| 13/13 [00:58<00:00,  4.50s/it]\n"
          ]
        },
        {
          "output_type": "stream",
          "name": "stdout",
          "text": [
            "The training loss for the 2 th epoch is 0.2970112143800809\n",
            "The training accuracy for the 2 th epoch is 0.9238578680203046\n",
            "The validation loss for the 2 th epoch is 0.33375825732946396\n",
            "The validation accuracy for the 2 th epoch is 0.9017857142857143\n",
            "Epoch:  3 / 10\n"
          ]
        },
        {
          "output_type": "stream",
          "name": "stderr",
          "text": [
            "100%|██████████| 13/13 [01:01<00:00,  4.72s/it]\n"
          ]
        },
        {
          "output_type": "stream",
          "name": "stdout",
          "text": [
            "The training loss for the 3 th epoch is 0.227667377402003\n",
            "The training accuracy for the 3 th epoch is 0.9403553299492385\n",
            "The validation loss for the 3 th epoch is 0.12882190197706223\n",
            "The validation accuracy for the 3 th epoch is 0.9553571428571429\n",
            "Epoch:  4 / 10\n"
          ]
        },
        {
          "output_type": "stream",
          "name": "stderr",
          "text": [
            "100%|██████████| 13/13 [00:57<00:00,  4.45s/it]\n"
          ]
        },
        {
          "output_type": "stream",
          "name": "stdout",
          "text": [
            "The training loss for the 4 th epoch is 0.1206232773569914\n",
            "The training accuracy for the 4 th epoch is 0.9581218274111675\n",
            "The validation loss for the 4 th epoch is 0.23524107038974762\n",
            "The validation accuracy for the 4 th epoch is 0.9196428571428571\n",
            "Epoch:  5 / 10\n"
          ]
        },
        {
          "output_type": "stream",
          "name": "stderr",
          "text": [
            "100%|██████████| 13/13 [01:00<00:00,  4.64s/it]\n"
          ]
        },
        {
          "output_type": "stream",
          "name": "stdout",
          "text": [
            "The training loss for the 5 th epoch is 0.13606165492763886\n",
            "The training accuracy for the 5 th epoch is 0.9593908629441624\n",
            "The validation loss for the 5 th epoch is 0.22491461783647537\n",
            "The validation accuracy for the 5 th epoch is 0.9196428571428571\n",
            "Epoch:  6 / 10\n"
          ]
        },
        {
          "output_type": "stream",
          "name": "stderr",
          "text": [
            "100%|██████████| 13/13 [01:07<00:00,  5.22s/it]\n"
          ]
        },
        {
          "output_type": "stream",
          "name": "stdout",
          "text": [
            "The training loss for the 6 th epoch is 0.07952618498641711\n",
            "The training accuracy for the 6 th epoch is 0.9657360406091371\n",
            "The validation loss for the 6 th epoch is 0.17844842374324799\n",
            "The validation accuracy for the 6 th epoch is 0.9285714285714286\n",
            "Epoch:  7 / 10\n"
          ]
        },
        {
          "output_type": "stream",
          "name": "stderr",
          "text": [
            "100%|██████████| 13/13 [00:59<00:00,  4.61s/it]\n"
          ]
        },
        {
          "output_type": "stream",
          "name": "stdout",
          "text": [
            "The training loss for the 7 th epoch is 0.10252586845308542\n",
            "The training accuracy for the 7 th epoch is 0.9631979695431472\n",
            "The validation loss for the 7 th epoch is 0.2776358798146248\n",
            "The validation accuracy for the 7 th epoch is 0.9196428571428571\n",
            "Epoch:  8 / 10\n"
          ]
        },
        {
          "output_type": "stream",
          "name": "stderr",
          "text": [
            "100%|██████████| 13/13 [00:59<00:00,  4.55s/it]\n"
          ]
        },
        {
          "output_type": "stream",
          "name": "stdout",
          "text": [
            "The training loss for the 8 th epoch is 0.18887150144347778\n",
            "The training accuracy for the 8 th epoch is 0.9378172588832487\n",
            "The validation loss for the 8 th epoch is 0.1354985050857067\n",
            "The validation accuracy for the 8 th epoch is 0.9553571428571429\n",
            "Epoch:  9 / 10\n"
          ]
        },
        {
          "output_type": "stream",
          "name": "stderr",
          "text": [
            "100%|██████████| 13/13 [01:05<00:00,  5.03s/it]\n"
          ]
        },
        {
          "output_type": "stream",
          "name": "stdout",
          "text": [
            "The training loss for the 9 th epoch is 0.0453911405773117\n",
            "The training accuracy for the 9 th epoch is 0.983502538071066\n",
            "The validation loss for the 9 th epoch is 0.1291534509509802\n",
            "The validation accuracy for the 9 th epoch is 0.9553571428571429\n",
            "Epoch:  10 / 10\n"
          ]
        },
        {
          "output_type": "stream",
          "name": "stderr",
          "text": [
            "100%|██████████| 13/13 [01:12<00:00,  5.55s/it]\n"
          ]
        },
        {
          "output_type": "stream",
          "name": "stdout",
          "text": [
            "The training loss for the 10 th epoch is 0.06407890712412503\n",
            "The training accuracy for the 10 th epoch is 0.9758883248730964\n",
            "The validation loss for the 10 th epoch is 0.17064178735017776\n",
            "The validation accuracy for the 10 th epoch is 0.9553571428571429\n"
          ]
        }
      ],
      "source": [
        "#HINT: note that your training time should not take many days.\n",
        "\n",
        "#TODO:\n",
        "#Pick your hyper parameters\n",
        "\n",
        "#The optimal hyperparameters according to my trials are the given ones.\n",
        "max_epoch = 10\n",
        "train_batch = 64\n",
        "test_batch = 64\n",
        "learning_rate = 9e-2\n",
        "weight_decay = 5e-04\n",
        "\n",
        "# TODO: Implement training loop + eval using ResNet-18 model\n",
        "model_tl = models.resnet18(pretrained=True)\n",
        "\n",
        "for param in model_tl.parameters():\n",
        "  param.requires_grad = False\n",
        "\n",
        "#Replace your last fully-connected layer\n",
        "num_inputs = model_tl.fc.in_features\n",
        "model_tl.fc = nn.Linear(num_inputs,4)\n",
        "\n",
        "#Calculating loss\n",
        "cross_entropy = nn.CrossEntropyLoss()\n",
        "\n",
        "#Optimize only the classifier\n",
        "optimizer = torch.optim.SGD(model_tl.fc.parameters(), lr = learning_rate, momentum = momentum, weight_decay = weight_decay)\n",
        "\n",
        "train_epoch_acc_tl, train_epoch_loss_tl, val_epoch_acc_tl, val_epoch_loss_tl = train_model(model_tl, cross_entropy, optimizer, max_epoch)"
      ]
    },
    {
      "cell_type": "markdown",
      "metadata": {
        "id": "LW2aqaDEXFds"
      },
      "source": [
        "###Learning Process Analysis [3 points]\n",
        "After training your model, provide two plots summarizing the learning procedure. Like previous parts, you will provide plots for loss value and accuracy progression over epochs. Remember that for each plot, you need to include two curves (one for the training set and one for the validation set)."
      ]
    },
    {
      "cell_type": "code",
      "execution_count": null,
      "metadata": {
        "id": "esWBPBmdlqlA",
        "colab": {
          "base_uri": "https://localhost:8080/",
          "height": 573
        },
        "outputId": "a70fc493-0398-4635-e287-c6f844c0705f"
      },
      "outputs": [
        {
          "output_type": "display_data",
          "data": {
            "text/plain": [
              "<Figure size 432x288 with 1 Axes>"
            ],
            "image/png": "[encoded data removed]"
          },
          "metadata": {
            "needs_background": "light"
          }
        },
        {
          "output_type": "display_data",
          "data": {
            "text/plain": [
              "<Figure size 432x288 with 1 Axes>"
            ],
            "image/png": "[encoded data removed]"
          },
          "metadata": {
            "needs_background": "light"
          }
        }
      ],
      "source": [
        "# TODO: Implement your plots here, you can use matplotlib library to do so.\n",
        "plot_graph(max_epoch, train_epoch_acc_tl, val_epoch_acc_tl, train_epoch_loss_tl, val_epoch_loss_tl)"
      ]
    },
    {
      "cell_type": "markdown",
      "metadata": {
        "id": "o4Y-Qs33XH_G"
      },
      "source": [
        "### Test [4 points]\n",
        "Following your analysis, report the confusion matrix for the best model you obtained (with the criteria you defined). Then, report the accuracy, precision, recall and $F_1$ score for the best model. In all of the metrics, use macro averaging."
      ]
    },
    {
      "cell_type": "code",
      "execution_count": null,
      "metadata": {
        "id": "bsZbLlOD5SvJ",
        "colab": {
          "base_uri": "https://localhost:8080/"
        },
        "outputId": "e6762d72-987a-4fdb-c6ac-27f05dcc08a8"
      },
      "outputs": [
        {
          "output_type": "stream",
          "name": "stdout",
          "text": [
            "The test accuracy is 0.9377777777777778\n"
          ]
        }
      ],
      "source": [
        "# TODO: Implement your evaluation script here, provide the confusion matrix and the requested metrics\n",
        "\n",
        "accurate_avg_tl, test_pred_label_tl, test_batch_label_tl = test_model(model_tl, cross_entropy, optimizer, max_epoch)"
      ]
    },
    {
      "cell_type": "code",
      "source": [
        "confusion_matrix_tl = torch.zeros(4,4, dtype = torch.int64)\n",
        "\n",
        "for i in range(test_size):\n",
        "    ground_truth = test_batch_label_tl[i].int()\n",
        "    predicted_label = test_pred_label_tl[i].int()\n",
        "    confusion_matrix_tl[ground_truth,predicted_label] += 1\n",
        "\n",
        "sns.heatmap(confusion_matrix_tl.numpy(),annot=True,fmt=\"d\")"
      ],
      "metadata": {
        "colab": {
          "base_uri": "https://localhost:8080/",
          "height": 283
        },
        "id": "nvkQEqc68nyD",
        "outputId": "e9acbc46-b9ba-45ce-cdc2-72ee0472dc60"
      },
      "execution_count": null,
      "outputs": [
        {
          "output_type": "execute_result",
          "data": {
            "text/plain": [
              "<matplotlib.axes._subplots.AxesSubplot at 0x7fbfb1cc2ca0>"
            ]
          },
          "metadata": {},
          "execution_count": 118
        },
        {
          "output_type": "display_data",
          "data": {
            "text/plain": [
              "<Figure size 432x288 with 2 Axes>"
            ],
            "image/png": "[encoded data removed]"
          },
          "metadata": {
            "needs_background": "light"
          }
        }
      ]
    },
    {
      "cell_type": "code",
      "source": [
        "target_names = ['Cloudy', 'Rain', 'Shine', 'Sunrise']\n",
        "print(\"Accuracy score for Fully Connected Network: \\n\", accuracy_score(y_true = test_batch_label_tl,  y_pred = test_pred_label_tl))\n",
        "print(\"Precision score for Fully Connected Network: \\n\", precision_score(y_true = test_batch_label_tl,  y_pred = test_pred_label_tl, average='macro'))\n",
        "print(\"Recall score for Fully Connected Network: \\n\", recall_score(y_true = test_batch_label_tl,  y_pred = test_pred_label_tl, average='macro'))\n",
        "print(\"F1 score for Fully Connected Network: \\n\", f1_score(y_true = test_batch_label_tl,  y_pred = test_pred_label_tl, average='macro'))"
      ],
      "metadata": {
        "colab": {
          "base_uri": "https://localhost:8080/"
        },
        "id": "hKTpMli28oHr",
        "outputId": "d523886b-b320-48cb-ef5f-0f152737c9e2"
      },
      "execution_count": null,
      "outputs": [
        {
          "output_type": "stream",
          "name": "stdout",
          "text": [
            "Accuracy score for Fully Connected Network: \n",
            " 0.9377777777777778\n",
            "Precision score for Fully Connected Network: \n",
            " 0.9388071895424837\n",
            "Recall score for Fully Connected Network: \n",
            " 0.936912580372117\n",
            "F1 score for Fully Connected Network: \n",
            " 0.9351381307903047\n"
          ]
        }
      ]
    },
    {
      "cell_type": "markdown",
      "metadata": {
        "id": "47uwNm3NmJDB"
      },
      "source": [
        "### Discussion [3 points]\n",
        "Now discuss the effectiveness of Transfer Learning. How does it improve performance?  \n",
        "\n"
      ]
    },
    {
      "cell_type": "markdown",
      "source": [
        "**Answer:** It has an additive effect on the test accuracy. The best model was CNN with 0.924 test accuracy before transfer learning, now it is 0.938. Even it is a slight increase, it still has a positive impact on classification. The reason is the model was already trained with other models, hence recognizing patterns were easier for the model itself. "
      ],
      "metadata": {
        "id": "VWu1Vm_XTY40"
      }
    },
    {
      "cell_type": "markdown",
      "metadata": {
        "id": "23y1QPvOVDIF"
      },
      "source": [
        "# References\n",
        "[1] Ajayi, Gbeminiyi (2018), “Multi-class Weather Dataset for Image Classification”, Mendeley Data, V1, doi: 10.17632/4drtyfjtfy.1"
      ]
    }
  ],
  "metadata": {
    "accelerator": "GPU",
    "colab": {
      "provenance": []
    },
    "kernelspec": {
      "display_name": "Python 3",
      "language": "python",
      "name": "python3"
    },
    "language_info": {
      "codemirror_mode": {
        "name": "ipython",
        "version": 3
      },
      "file_extension": ".py",
      "mimetype": "text/x-python",
      "name": "python",
      "nbconvert_exporter": "python",
      "pygments_lexer": "ipython3",
      "version": "3.8.3"
    },
    "gpuClass": "standard"
  },
  "nbformat": 4,
  "nbformat_minor": 0
}